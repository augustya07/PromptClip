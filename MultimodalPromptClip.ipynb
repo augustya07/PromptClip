{
 "cells": [
  {
   "cell_type": "code",
   "execution_count": null,
   "metadata": {},
   "outputs": [],
   "source": [
    "# But first, let's install the dependecies.\n",
    "!pip install -r requirements.txt"
   ]
  },
  {
   "cell_type": "code",
   "execution_count": 1,
   "metadata": {},
   "outputs": [],
   "source": [
    "import os\n",
    "from dotenv import load_dotenv\n",
    "from video_prompter import get_connection\n",
    "\n",
    "# TODO: setup .env file\n",
    "load_dotenv()\n",
    "OPENAI_KEY = os.getenv('OPENAI_API_KEY')\n",
    "\n",
    "# connect to VideoDB\n",
    "conn = get_connection()\n",
    "\n",
    "### ----- Upload a fresh video --------- #####\n",
    "def fresh_video(url):\n",
    "    video = conn.upload(url=url)\n",
    "    #index spoken content in the video\n",
    "    video.index_spoken_words()\n",
    "    return video\n",
    "\n",
    "#### ------ run the prompt on video --------####\n",
    "def videodb_prompter(video_id, prompt):\n",
    "    video = get_video(video_id)\n",
    "    #get all the segment of videos that are\n",
    "    return video_prompter(video, prompt)"
   ]
  },
  {
   "cell_type": "code",
   "execution_count": 2,
   "metadata": {},
   "outputs": [
    {
     "data": {
      "text/plain": [
       "'https://console.videodb.io/player?url=https://stream.videodb.io/v3/published/manifests/bd38e2b1-fd23-4629-935e-5d38a80738fe.m3u8'"
      ]
     },
     "execution_count": 2,
     "metadata": {},
     "output_type": "execute_result"
    }
   ],
   "source": [
    "from videodb import play_stream\n",
    "\n",
    "# ----Existing video case ----\n",
    "\n",
    "# TODO: replace with your video id\n",
    "# # video_id = \"m-replace-with-your-video-id-24-7\"\n",
    "# video_id = 'm-beb3ee4a-3169-4cb6-8dc1-beee73eb00a1'\n",
    "# video_id = 'm-08caaef7-1680-4ca7-9090-38d11668bca9'\n",
    "video_id = \"m-3b9d3378-d79a-4765-9144-fa96da9645e8\"\n",
    "\n",
    "\n",
    "# ---- Fresh video case ----\n",
    "# url = \"https://youtu.be/pAMy7IhOVQE?si=iNvbJE02Pf8XXGd8\"\n",
    "# video = fresh_video(url)\n",
    "# video_id = video.id\n",
    "\n",
    "\n",
    "#watch the original video\n",
    "video = conn.get_collection().get_video(video_id)\n",
    "video.player_url"
   ]
  },
  {
   "cell_type": "code",
   "execution_count": null,
   "metadata": {},
   "outputs": [],
   "source": [
    "# Create new scene index\n",
    "from videodb import IndexType\n",
    "from videodb import SceneExtractionType\n",
    " \n",
    "index_id = video.index_scenes(\n",
    "    extraction_type=SceneExtractionType.time_based,\n",
    "    extraction_config={\"time\":10, \"select_frames\": ['first']},\n",
    "    prompt=\"all the actions taken by charchter in the frame\",\n",
    "    # callback_url=callback_url,\n",
    ")\n",
    "\n",
    "# Wait to Indexing to finish\n",
    "# scene_index = video.get_scene_index()\n",
    "# print(scene_index)\n",
    "\n",
    "# #Use existing scene index"
   ]
  },
  {
   "cell_type": "code",
   "execution_count": 3,
   "metadata": {},
   "outputs": [
    {
     "name": "stdout",
     "output_type": "stream",
     "text": [
      "[{'name': 'My Custom Annotations#1', 'scene_index_id': '0229a1d0959a0c85', 'status': 'done'}, {'name': 'Scene Index 2024-07-19 10:39', 'scene_index_id': '49b2dfa77e3c55e9', 'status': 'done'}, {'name': 'My Custom Annotations#1', 'scene_index_id': 'd1ae348b01211969', 'status': 'done'}, {'name': 'Scene Index 2024-07-18 06:43', 'scene_index_id': 'd49f6fbcc95a87d5', 'status': 'done'}]\n"
     ]
    }
   ],
   "source": [
    "index_id = video.list_scene_index()\n",
    "print(index_id)"
   ]
  },
  {
   "cell_type": "code",
   "execution_count": 4,
   "metadata": {},
   "outputs": [],
   "source": [
    "scene_index = video.get_scene_index(\"0229a1d0959a0c85\")\n",
    "# print(scene_index)"
   ]
  },
  {
   "cell_type": "code",
   "execution_count": 5,
   "metadata": {},
   "outputs": [],
   "source": [
    "transcript = video.get_transcript()"
   ]
  },
  {
   "cell_type": "code",
   "execution_count": 6,
   "metadata": {},
   "outputs": [
    {
     "name": "stdout",
     "output_type": "stream",
     "text": [
      "Sendiing call to OPENAI \n",
      "       You are given visual and spoken information of the video of each second, and a transcipt of what's being spoken along with timestamp.\n",
      "        Your task is to evaluate the data for relevance to the specified user prompt.\n",
      "        Corelate visual and spoken content to find the relevant video segment.\n",
      "        provide the start and end timestamps by analyse the full chunk and give longest matching timestamps. You can merge the 1 second chunks and transcripts to make continuous response.\n",
      "\n",
      "        Multimodal Data:\n",
      "        video: [{'visual': 'Detective Martin is being interviewed by the police.', 'spoken': 'Revival ministry, old time religion. You can imagine what Mister Charisma thought of that.', 'start': 0.0, 'end': 10.0}, {'visual': 'A religious gathering. People are praying and singing.', 'spoken': \"What do you think the average iq of this group is, huh? Can you see Texas up there on your high horse? What do you know about these people? Just observation and deduction. See, a propensity for obesity, poverty, a yin for fairy tales. Folks putting what few bucks they do have in the little wicker baskets being passed around. I think it's safe to say that nobody here is gonna be splitting the atom, Marty. Can you imagine if people didn't believe things? They'd get up to exact same thing they do now, just out in the open. Bull shit. It could be a fucking freak show of murder and debauchery and you know it. If the only thing keeping a person decent is the expectation of divine reward, then, brother, that that person is a piece of shit. And I'd like to get as many of them out in the open as possible. I guess your judgment is infallible, piece of shit wise. You think that notebook is a stone tablet? What's it say about life, huh? You gotta get together, tell yourself stories that violate every law of the universe just to get through the goddamn day? What's that say about your reality, Marty?\", 'start': 10.0, 'end': 100.0}]\n",
      "        User Prompt: a religious conversastion\n",
      "\n",
      "    \n",
      "        \n",
      "         **Output Format**: Return a JSON list named 'result' that containes the  fileds `sentence`, `start`, `end` Ensure the final output\n",
      "        strictly adheres to the JSON format specified without including additional text or explanations.         If there is no match return empty list without additional text. Use the following structure for your response:\n",
      "        {\"result\":{\"visual\":<>,\"spoken\": <>, \"start\":<>, \"end\":<>}}\n",
      "        \n"
     ]
    },
    {
     "name": "stdout",
     "output_type": "stream",
     "text": [
      "{'id': 'chatcmpl-9o4mNfdZfJI6nc2d5oEnP9NYThM0e', 'object': 'chat.completion', 'created': 1721721799, 'model': 'gpt-4-0613', 'choices': [{'index': 0, 'message': {'role': 'assistant', 'content': '{\"result\": {\"visual\": \"A religious gathering. People are praying and singing.\", \"spoken\": \"What do you think the average iq of this group is, huh? Can you see Texas up there on your high horse? What do you know about these people? Just observation and deduction. See, a propensity for obesity, poverty, a yin for fairy tales. Folks putting what few bucks they do have in the little wicker baskets being passed around. I think it\\'s safe to say that nobody here is gonna be splitting the atom, Marty. Can you imagine if people didn\\'t believe things? They\\'d get up to exact same thing they do now, just out in the open. Bull shit. It could be a fucking freak show of murder and debauchery and you know it. If the only thing keeping a person decent is the expectation of divine reward, then, brother, that that person is a piece of shit. And I\\'d like to get as many of them out in the open as possible. I guess your judgment is infallible, piece of shit wise. You think that notebook is a stone tablet? What\\'s it say about life, huh? You gotta get together, tell yourself stories that violate every law of the universe just to get through the goddamn day? What\\'s that say about your reality, Marty?\", \"start\": 10.0, \"end\": 100.0}}'}, 'logprobs': None, 'finish_reason': 'stop'}], 'usage': {'prompt_tokens': 554, 'completion_tokens': 290, 'total_tokens': 844}, 'system_fingerprint': None}\n",
      "[{'result': {'visual': 'A religious gathering. People are praying and singing.', 'spoken': \"What do you think the average iq of this group is, huh? Can you see Texas up there on your high horse? What do you know about these people? Just observation and deduction. See, a propensity for obesity, poverty, a yin for fairy tales. Folks putting what few bucks they do have in the little wicker baskets being passed around. I think it's safe to say that nobody here is gonna be splitting the atom, Marty. Can you imagine if people didn't believe things? They'd get up to exact same thing they do now, just out in the open. Bull shit. It could be a fucking freak show of murder and debauchery and you know it. If the only thing keeping a person decent is the expectation of divine reward, then, brother, that that person is a piece of shit. And I'd like to get as many of them out in the open as possible. I guess your judgment is infallible, piece of shit wise. You think that notebook is a stone tablet? What's it say about life, huh? You gotta get together, tell yourself stories that violate every law of the universe just to get through the goddamn day? What's that say about your reality, Marty?\", 'start': 10.0, 'end': 100.0}}]\n"
     ]
    }
   ],
   "source": [
    "from video_prompter import multimodal_prompter\n",
    "\n",
    "\n",
    "prompt = \"a conversastion on religion\"\n",
    "matches = multimodal_prompter(transcript,scene_index, prompt)\n"
   ]
  },
  {
   "cell_type": "code",
   "execution_count": 9,
   "metadata": {},
   "outputs": [
    {
     "name": "stdout",
     "output_type": "stream",
     "text": [
      "Processed Item 0\n"
     ]
    }
   ],
   "source": [
    "# search matching video segments and watch the stream\n",
    "from videodb import SearchType\n",
    "from videodb.timeline import Timeline, VideoAsset, AudioAsset\n",
    "from video_prompter import extract_clip_sentences\n",
    "\n",
    "\n",
    "timeline = Timeline(conn)\n",
    "for clip_sentences in extract_clip_sentences(matches):\n",
    "    search_res = video.search(clip_sentences, search_type=SearchType.keyword)\n",
    "    matched_segments = search_res.get_shots()\n",
    "    \n",
    "    #no exact match found.\n",
    "    if len(matched_segments) == 0:\n",
    "        continue\n",
    "\n",
    "    #video segment\n",
    "    video_shot = matched_segments[0]\n",
    "\n",
    "    #Create a new Video Asset and add it to a timeline.\n",
    "    timeline.add_inline(VideoAsset(asset_id=video.id, start=video_shot.start, end=video_shot.end))"
   ]
  },
  {
   "cell_type": "code",
   "execution_count": 10,
   "metadata": {},
   "outputs": [
    {
     "name": "stdout",
     "output_type": "stream",
     "text": [
      "https://stream.videodb.io/v3/published/manifests/17712372-e786-4c87-8b2a-c3b4ad9d553e.m3u8\n"
     ]
    },
    {
     "data": {
      "text/plain": [
       "'https://console.videodb.io/player?url=https://stream.videodb.io/v3/published/manifests/17712372-e786-4c87-8b2a-c3b4ad9d553e.m3u8'"
      ]
     },
     "execution_count": 10,
     "metadata": {},
     "output_type": "execute_result"
    }
   ],
   "source": [
    "stream = timeline.generate_stream()\n",
    "print(stream)\n",
    "play_stream(stream)"
   ]
  },
  {
   "cell_type": "code",
   "execution_count": 11,
   "metadata": {},
   "outputs": [],
   "source": [
    "def construct_timeline_and_stream( selected_frames):\n",
    "    timeline = Timeline(conn)\n",
    "    \n",
    "    print(\"Selected frames:\", selected_frames)  \n",
    "\n",
    "    for frame in selected_frames:\n",
    "        print(\"Adding frame:\", frame)  \n",
    "        video_asset = VideoAsset(\n",
    "            asset_id=video_id,\n",
    "            start=frame['start_time'],\n",
    "            end=frame['end_time']\n",
    "        )\n",
    "        timeline.add_inline(video_asset)\n",
    "    \n",
    "    print(\"Timeline created:\", timeline)  \n",
    "    \n",
    "    stream_url = timeline.generate_stream()\n",
    "    print(\"Stream URL:\", stream_url)\n",
    "    return play_stream(stream_url)\n"
   ]
  },
  {
   "cell_type": "code",
   "execution_count": 13,
   "metadata": {},
   "outputs": [
    {
     "name": "stdout",
     "output_type": "stream",
     "text": [
      "Extracted timeframe 0: start=10.0, end=100.0\n",
      "Selected frames: [{'start_time': 10.0, 'end_time': 100.0, 'sentence': None}]\n",
      "Adding frame: {'start_time': 10.0, 'end_time': 100.0, 'sentence': None}\n",
      "Timeline created: <videodb.timeline.Timeline object at 0x108a85390>\n",
      "Stream URL: https://stream.videodb.io/v3/published/manifests/e4cc62ee-fa4b-4d7d-a77f-1808fd33cbc7.m3u8\n"
     ]
    },
    {
     "data": {
      "text/plain": [
       "'https://console.videodb.io/player?url=https://stream.videodb.io/v3/published/manifests/e4cc62ee-fa4b-4d7d-a77f-1808fd33cbc7.m3u8'"
      ]
     },
     "execution_count": 13,
     "metadata": {},
     "output_type": "execute_result"
    }
   ],
   "source": [
    "from video_prompter import merge_timeframes,extract_timestamps_multimodal\n",
    "\n",
    "\n",
    "timeframes = extract_timestamps_multimodal(matches)\n",
    "merged_timeframes = merge_timeframes(timeframes)\n",
    "construct_timeline_and_stream(merged_timeframes)"
   ]
  }
 ],
 "metadata": {
  "kernelspec": {
   "display_name": "Python 3",
   "language": "python",
   "name": "python3"
  },
  "language_info": {
   "codemirror_mode": {
    "name": "ipython",
    "version": 3
   },
   "file_extension": ".py",
   "mimetype": "text/x-python",
   "name": "python",
   "nbconvert_exporter": "python",
   "pygments_lexer": "ipython3",
   "version": "3.10.8"
  }
 },
 "nbformat": 4,
 "nbformat_minor": 2
}
