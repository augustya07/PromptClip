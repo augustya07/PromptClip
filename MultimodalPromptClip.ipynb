{
 "cells": [
  {
   "cell_type": "code",
   "execution_count": null,
   "metadata": {},
   "outputs": [],
   "source": [
    "# But first, let's install the dependecies.\n",
    "!pip install -r requirements.txt"
   ]
  },
  {
   "cell_type": "code",
   "execution_count": 1,
   "metadata": {},
   "outputs": [],
   "source": [
    "import os\n",
    "from dotenv import load_dotenv\n",
    "from video_prompter import get_connection\n",
    "\n",
    "# TODO: setup .env file\n",
    "load_dotenv()\n",
    "\n",
    "# connect to VideoDB\n",
    "conn = get_connection()\n",
    "\n",
    "### ----- Upload a fresh video --------- #####\n",
    "def fresh_video(url):\n",
    "    video = conn.upload(url=url)\n",
    "    #index spoken content in the video\n",
    "    video.index_spoken_words()\n",
    "    return video\n",
    "\n",
    "#### ------ run the prompt on video --------####\n",
    "def videodb_prompter(video_id, prompt):\n",
    "    video = get_video(video_id)\n",
    "    #get all the segment of videos that are\n",
    "    return video_prompter(video, prompt)"
   ]
  },
  {
   "cell_type": "code",
   "execution_count": 2,
   "metadata": {},
   "outputs": [
    {
     "data": {
      "text/plain": [
       "'https://console.videodb.io/player?url=https://stream.videodb.io/v3/published/manifests/bd38e2b1-fd23-4629-935e-5d38a80738fe.m3u8'"
      ]
     },
     "execution_count": 2,
     "metadata": {},
     "output_type": "execute_result"
    }
   ],
   "source": [
    "from videodb import play_stream\n",
    "\n",
    "# ----Existing video case ----\n",
    "\n",
    "# TODO: replace with your video id\n",
    "# video_id = \"null\"\n",
    "\n",
    "\n",
    "# ---- Fresh video case ----\n",
    "url = \"https://youtu.be/pAMy7IhOVQE?si=iNvbJE02Pf8XXGd8\"\n",
    "video = fresh_video(url)\n",
    "video_id = video.id\n",
    "\n",
    "\n",
    "#watch the original video\n",
    "video = conn.get_collection().get_video(video_id)\n",
    "video.player_url"
   ]
  },
  {
   "cell_type": "code",
   "execution_count": null,
   "metadata": {},
   "outputs": [],
   "source": [
    "# Create new scene index\n",
    "from videodb import IndexType\n",
    "from videodb import SceneExtractionType\n",
    " \n",
    "index_id = video.index_scenes(\n",
    "    extraction_type=SceneExtractionType.time_based,\n",
    "    extraction_config={\"time\":10, \"select_frames\": ['first']},\n",
    "    prompt=\"Describe in detail the actions, gestures, and movements of each character visible in the frame. Include their position, facial expressions, and any interactions with objects or other characters.\",\n",
    "    # callback_url=callback_url,\n",
    ")"
   ]
  },
  {
   "cell_type": "code",
   "execution_count": null,
   "metadata": {},
   "outputs": [],
   "source": [
    "# Wait to Indexing to finish\n",
    "scene_index = video.get_scene_index(index_id)"
   ]
  },
  {
   "cell_type": "code",
   "execution_count": 5,
   "metadata": {},
   "outputs": [],
   "source": [
    "transcript = video.get_transcript()"
   ]
  },
  {
   "cell_type": "code",
   "execution_count": null,
   "metadata": {},
   "outputs": [],
   "source": [
    "from video_prompter import multimodal_prompter\n",
    "\n",
    "\n",
    "prompt = \"a conversastion on religion\"\n",
    "matches = multimodal_prompter(transcript,scene_index, prompt)\n"
   ]
  },
  {
   "cell_type": "code",
   "execution_count": 9,
   "metadata": {},
   "outputs": [
    {
     "name": "stdout",
     "output_type": "stream",
     "text": [
      "Processed Item 0\n"
     ]
    }
   ],
   "source": [
    "# search matching video segments and watch the stream\n",
    "from videodb import SearchType\n",
    "from videodb.timeline import Timeline, VideoAsset, AudioAsset\n",
    "from video_prompter import extract_clip_sentences\n",
    "\n",
    "\n",
    "timeline = Timeline(conn)\n",
    "for clip_sentences in extract_clip_sentences(matches):\n",
    "    search_res = video.search(clip_sentences, search_type=SearchType.keyword)\n",
    "    matched_segments = search_res.get_shots()\n",
    "    \n",
    "    #no exact match found.\n",
    "    if len(matched_segments) == 0:\n",
    "        continue\n",
    "\n",
    "    #video segment\n",
    "    video_shot = matched_segments[0]\n",
    "\n",
    "    #Create a new Video Asset and add it to a timeline.\n",
    "    timeline.add_inline(VideoAsset(asset_id=video.id, start=video_shot.start, end=video_shot.end))"
   ]
  },
  {
   "cell_type": "code",
   "execution_count": 10,
   "metadata": {},
   "outputs": [
    {
     "name": "stdout",
     "output_type": "stream",
     "text": [
      "https://stream.videodb.io/v3/published/manifests/17712372-e786-4c87-8b2a-c3b4ad9d553e.m3u8\n"
     ]
    },
    {
     "data": {
      "text/plain": [
       "'https://console.videodb.io/player?url=https://stream.videodb.io/v3/published/manifests/17712372-e786-4c87-8b2a-c3b4ad9d553e.m3u8'"
      ]
     },
     "execution_count": 10,
     "metadata": {},
     "output_type": "execute_result"
    }
   ],
   "source": [
    "stream = timeline.generate_stream()\n",
    "print(stream)\n",
    "play_stream(stream)"
   ]
  }
 ],
 "metadata": {
  "kernelspec": {
   "display_name": "Python 3",
   "language": "python",
   "name": "python3"
  },
  "language_info": {
   "codemirror_mode": {
    "name": "ipython",
    "version": 3
   },
   "file_extension": ".py",
   "mimetype": "text/x-python",
   "name": "python",
   "nbconvert_exporter": "python",
   "pygments_lexer": "ipython3",
   "version": "3.10.8"
  }
 },
 "nbformat": 4,
 "nbformat_minor": 2
}
