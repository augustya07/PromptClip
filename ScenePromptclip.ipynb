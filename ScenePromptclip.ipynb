{
 "cells": [
  {
   "cell_type": "code",
   "execution_count": 1,
   "metadata": {},
   "outputs": [
    {
     "name": "stdout",
     "output_type": "stream",
     "text": [
      "Requirement already satisfied: annotated-types==0.6.0 in /Library/Frameworks/Python.framework/Versions/3.10/lib/python3.10/site-packages (from -r requirements.txt (line 1)) (0.6.0)\n",
      "Requirement already satisfied: anthropic==0.15.0 in /Library/Frameworks/Python.framework/Versions/3.10/lib/python3.10/site-packages (from -r requirements.txt (line 2)) (0.15.0)\n",
      "Requirement already satisfied: anyio==4.2.0 in /Library/Frameworks/Python.framework/Versions/3.10/lib/python3.10/site-packages (from -r requirements.txt (line 3)) (4.2.0)\n",
      "Requirement already satisfied: backoff==2.2.1 in /Library/Frameworks/Python.framework/Versions/3.10/lib/python3.10/site-packages (from -r requirements.txt (line 4)) (2.2.1)\n",
      "Requirement already satisfied: certifi==2024.2.2 in /Library/Frameworks/Python.framework/Versions/3.10/lib/python3.10/site-packages (from -r requirements.txt (line 5)) (2024.2.2)\n",
      "Requirement already satisfied: charset-normalizer==3.3.2 in /Library/Frameworks/Python.framework/Versions/3.10/lib/python3.10/site-packages (from -r requirements.txt (line 6)) (3.3.2)\n",
      "Requirement already satisfied: distro==1.9.0 in /Library/Frameworks/Python.framework/Versions/3.10/lib/python3.10/site-packages (from -r requirements.txt (line 7)) (1.9.0)\n",
      "Requirement already satisfied: exceptiongroup==1.2.0 in /Library/Frameworks/Python.framework/Versions/3.10/lib/python3.10/site-packages (from -r requirements.txt (line 8)) (1.2.0)\n",
      "Requirement already satisfied: filelock==3.13.1 in /Library/Frameworks/Python.framework/Versions/3.10/lib/python3.10/site-packages (from -r requirements.txt (line 9)) (3.13.1)\n",
      "Requirement already satisfied: fsspec==2024.2.0 in /Library/Frameworks/Python.framework/Versions/3.10/lib/python3.10/site-packages (from -r requirements.txt (line 10)) (2024.2.0)\n",
      "Requirement already satisfied: h11==0.14.0 in /Library/Frameworks/Python.framework/Versions/3.10/lib/python3.10/site-packages (from -r requirements.txt (line 11)) (0.14.0)\n",
      "Requirement already satisfied: httpcore==1.0.2 in /Library/Frameworks/Python.framework/Versions/3.10/lib/python3.10/site-packages (from -r requirements.txt (line 12)) (1.0.2)\n",
      "Requirement already satisfied: httpx==0.26.0 in /Library/Frameworks/Python.framework/Versions/3.10/lib/python3.10/site-packages (from -r requirements.txt (line 13)) (0.26.0)\n",
      "Requirement already satisfied: huggingface-hub==0.20.3 in /Library/Frameworks/Python.framework/Versions/3.10/lib/python3.10/site-packages (from -r requirements.txt (line 14)) (0.20.3)\n",
      "Requirement already satisfied: idna==3.6 in /Library/Frameworks/Python.framework/Versions/3.10/lib/python3.10/site-packages (from -r requirements.txt (line 15)) (3.6)\n",
      "Requirement already satisfied: packaging==23.2 in /Library/Frameworks/Python.framework/Versions/3.10/lib/python3.10/site-packages (from -r requirements.txt (line 16)) (23.2)\n",
      "Requirement already satisfied: pydantic==2.6.1 in /Library/Frameworks/Python.framework/Versions/3.10/lib/python3.10/site-packages (from -r requirements.txt (line 17)) (2.6.1)\n",
      "Requirement already satisfied: pydantic_core==2.16.2 in /Library/Frameworks/Python.framework/Versions/3.10/lib/python3.10/site-packages (from -r requirements.txt (line 18)) (2.16.2)\n",
      "Requirement already satisfied: python-dotenv==1.0.1 in /Library/Frameworks/Python.framework/Versions/3.10/lib/python3.10/site-packages (from -r requirements.txt (line 19)) (1.0.1)\n",
      "Requirement already satisfied: PyYAML==6.0.1 in /Library/Frameworks/Python.framework/Versions/3.10/lib/python3.10/site-packages (from -r requirements.txt (line 20)) (6.0.1)\n",
      "Requirement already satisfied: requests==2.31.0 in /Library/Frameworks/Python.framework/Versions/3.10/lib/python3.10/site-packages (from -r requirements.txt (line 21)) (2.31.0)\n",
      "Requirement already satisfied: sniffio==1.3.0 in /Library/Frameworks/Python.framework/Versions/3.10/lib/python3.10/site-packages (from -r requirements.txt (line 22)) (1.3.0)\n",
      "Requirement already satisfied: tokenizers==0.15.1 in /Library/Frameworks/Python.framework/Versions/3.10/lib/python3.10/site-packages (from -r requirements.txt (line 23)) (0.15.1)\n",
      "Requirement already satisfied: tqdm==4.66.1 in /Library/Frameworks/Python.framework/Versions/3.10/lib/python3.10/site-packages (from -r requirements.txt (line 24)) (4.66.1)\n",
      "Requirement already satisfied: typing_extensions==4.9.0 in /Library/Frameworks/Python.framework/Versions/3.10/lib/python3.10/site-packages (from -r requirements.txt (line 25)) (4.9.0)\n",
      "Requirement already satisfied: urllib3==2.2.0 in /Library/Frameworks/Python.framework/Versions/3.10/lib/python3.10/site-packages (from -r requirements.txt (line 26)) (2.2.0)\n",
      "Requirement already satisfied: videodb==0.2.2 in /Library/Frameworks/Python.framework/Versions/3.10/lib/python3.10/site-packages (from -r requirements.txt (line 27)) (0.2.2)\n",
      "\n",
      "\u001b[1m[\u001b[0m\u001b[34;49mnotice\u001b[0m\u001b[1;39;49m]\u001b[0m\u001b[39;49m A new release of pip is available: \u001b[0m\u001b[31;49m23.3.2\u001b[0m\u001b[39;49m -> \u001b[0m\u001b[32;49m24.1.2\u001b[0m\n",
      "\u001b[1m[\u001b[0m\u001b[34;49mnotice\u001b[0m\u001b[1;39;49m]\u001b[0m\u001b[39;49m To update, run: \u001b[0m\u001b[32;49mpip install --upgrade pip\u001b[0m\n"
     ]
    }
   ],
   "source": [
    "# But first, let's install the dependecies.\n",
    "!pip install -r requirements.txt"
   ]
  },
  {
   "cell_type": "markdown",
   "metadata": {},
   "source": []
  },
  {
   "cell_type": "code",
   "execution_count": 2,
   "metadata": {},
   "outputs": [],
   "source": [
    "import os\n",
    "from dotenv import load_dotenv\n",
    "from video_prompter import get_connection\n",
    "\n",
    "# TODO: setup .env file\n",
    "load_dotenv()\n",
    "\n",
    "# connect to VideoDB\n",
    "conn = get_connection()\n",
    "\n",
    "### ----- Upload a fresh video --------- #####\n",
    "def fresh_video(url):\n",
    "    video = conn.upload(url=url)\n",
    "    #index spoken content in the video\n",
    "    video.index_spoken_words()\n",
    "    return video\n",
    "\n",
    "#### ------ run the prompt on video --------####\n",
    "def videodb_prompter(video_id, prompt):\n",
    "    video = get_video(video_id)\n",
    "    #get all the segment of videos that are\n",
    "    return video_prompter(video, prompt)"
   ]
  },
  {
   "cell_type": "code",
   "execution_count": 3,
   "metadata": {},
   "outputs": [
    {
     "data": {
      "text/plain": [
       "'https://console.videodb.io/player?url=https://stream.videodb.io/v3/published/manifests/71ad9a7c-6b05-46f8-8248-ed314cc94e9f.m3u8'"
      ]
     },
     "execution_count": 3,
     "metadata": {},
     "output_type": "execute_result"
    }
   ],
   "source": [
    "from videodb import play_stream\n",
    "\n",
    "# ----Existing video case ----\n",
    "# video_id = \"null\"\n",
    "\n",
    "\n",
    "# ---- Fresh video case ----\n",
    "url = \"https://youtu.be/pAMy7IhOVQE?si=6HMxVGP13hAHtmW3\"\n",
    "video = fresh_video(url)\n",
    "video_id = video.id\n",
    "\n",
    "\n",
    "#watch the original video\n",
    "video = conn.get_collection().get_video(video_id)\n",
    "video.player_url"
   ]
  },
  {
   "cell_type": "code",
   "execution_count": 29,
   "metadata": {},
   "outputs": [],
   "source": [
    "# Create new scene index\n",
    "from videodb import IndexType\n",
    "from videodb import SceneExtractionType\n",
    " \n",
    "index_id = video.index_scenes(\n",
    "    extraction_type=SceneExtractionType.time_based,\n",
    "    extraction_config={\"time\":1, \"select_frames\": ['middle']},\n",
    "    prompt=\"Describe in detail the actions, gestures, and movements of each character visible in the frame. Include their position, facial expressions, and any interactions with objects or other characters.\",\n",
    "    name=\"Scene Index of actions\"\n",
    ")\n"
   ]
  },
  {
   "cell_type": "code",
   "execution_count": null,
   "metadata": {},
   "outputs": [],
   "source": [
    "scene = video.get_scene_index(index_id)"
   ]
  },
  {
   "cell_type": "code",
   "execution_count": null,
   "metadata": {},
   "outputs": [],
   "source": [
    "from video_prompter import scene_prompter\n",
    "\n",
    "\n",
    "user_prompt = \"talking on phone\"\n",
    "result = scene_prompter(scene, user_prompt)\n"
   ]
  },
  {
   "cell_type": "code",
   "execution_count": null,
   "metadata": {},
   "outputs": [],
   "source": [
    "# search matching video segments and watch the stream\n",
    "from videodb import SearchType\n",
    "from videodb import IndexType\n",
    "from videodb.asset import VideoAsset, AudioAsset, ImageAsset\n",
    "from videodb.timeline import Timeline\n",
    "from video_prompter import extract_descriptions\n",
    "\n",
    "timeline = Timeline(conn)\n",
    "for description in extract_descriptions(result):\n",
    "    search_res = video.search(description, scene_index_id = index_id, index_type = IndexType.scene)\n",
    "    matched_segments = search_res.get_shots()\n",
    "    \n",
    "    #no exact match found.\n",
    "    if len(matched_segments) == 0:\n",
    "        continue\n",
    "\n",
    "    #video segment\n",
    "    video_shot = matched_segments[0]\n",
    "\n",
    "    #Create a new Video Asset and add it to a timeline.\n",
    "    timeline.add_inline(VideoAsset(asset_id=video.id, start=video_shot.start, end=video_shot.end))"
   ]
  },
  {
   "cell_type": "code",
   "execution_count": 38,
   "metadata": {},
   "outputs": [
    {
     "name": "stdout",
     "output_type": "stream",
     "text": [
      "https://stream.videodb.io/v3/published/manifests/b92cb532-0c79-4632-b51a-28143d5d1d62.m3u8\n"
     ]
    },
    {
     "data": {
      "text/plain": [
       "'https://console.videodb.io/player?url=https://stream.videodb.io/v3/published/manifests/b92cb532-0c79-4632-b51a-28143d5d1d62.m3u8'"
      ]
     },
     "execution_count": 38,
     "metadata": {},
     "output_type": "execute_result"
    }
   ],
   "source": [
    "stream = timeline.generate_stream()\n",
    "print(stream)\n",
    "play_stream(stream)"
   ]
  }
 ],
 "metadata": {
  "kernelspec": {
   "display_name": "Python 3",
   "language": "python",
   "name": "python3"
  },
  "language_info": {
   "codemirror_mode": {
    "name": "ipython",
    "version": 3
   },
   "file_extension": ".py",
   "mimetype": "text/x-python",
   "name": "python",
   "nbconvert_exporter": "python",
   "pygments_lexer": "ipython3",
   "version": "3.10.8"
  }
 },
 "nbformat": 4,
 "nbformat_minor": 2
}
