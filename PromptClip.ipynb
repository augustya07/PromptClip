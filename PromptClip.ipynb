{
 "cells": [
  {
   "cell_type": "markdown",
   "metadata": {},
   "source": [
    "### Overview\n",
    "This notebook walk your through the process of creating clips with LLM prompts. \n",
    "\n",
    "Pick a video, decide your prompt, generate a new clip ⚡️\n",
    "\n",
    "It's as simple as it sounds.\n",
    "\n",
    "If you want to go extra mile you can score and rank your results, add Image Overlays or Audio overlays on these clips."
   ]
  },
  {
   "cell_type": "code",
   "execution_count": 1,
   "metadata": {
    "scrolled": true
   },
   "outputs": [
    {
     "name": "stdout",
     "output_type": "stream",
     "text": [
      "Requirement already satisfied: annotated-types==0.6.0 in /Users/ashu/opt/anaconda3/envs/videoDB/lib/python3.12/site-packages (from -r requirements.txt (line 1)) (0.6.0)\n",
      "Requirement already satisfied: anthropic==0.15.0 in /Users/ashu/opt/anaconda3/envs/videoDB/lib/python3.12/site-packages (from -r requirements.txt (line 2)) (0.15.0)\n",
      "Requirement already satisfied: anyio==4.2.0 in /Users/ashu/opt/anaconda3/envs/videoDB/lib/python3.12/site-packages (from -r requirements.txt (line 3)) (4.2.0)\n",
      "Requirement already satisfied: backoff==2.2.1 in /Users/ashu/opt/anaconda3/envs/videoDB/lib/python3.12/site-packages (from -r requirements.txt (line 4)) (2.2.1)\n",
      "Requirement already satisfied: certifi==2024.2.2 in /Users/ashu/opt/anaconda3/envs/videoDB/lib/python3.12/site-packages (from -r requirements.txt (line 5)) (2024.2.2)\n",
      "Requirement already satisfied: charset-normalizer==3.3.2 in /Users/ashu/opt/anaconda3/envs/videoDB/lib/python3.12/site-packages (from -r requirements.txt (line 6)) (3.3.2)\n",
      "Requirement already satisfied: distro==1.9.0 in /Users/ashu/opt/anaconda3/envs/videoDB/lib/python3.12/site-packages (from -r requirements.txt (line 7)) (1.9.0)\n",
      "Requirement already satisfied: exceptiongroup==1.2.0 in /Users/ashu/opt/anaconda3/envs/videoDB/lib/python3.12/site-packages (from -r requirements.txt (line 8)) (1.2.0)\n",
      "Requirement already satisfied: filelock==3.13.1 in /Users/ashu/opt/anaconda3/envs/videoDB/lib/python3.12/site-packages (from -r requirements.txt (line 9)) (3.13.1)\n",
      "Requirement already satisfied: fsspec==2024.2.0 in /Users/ashu/opt/anaconda3/envs/videoDB/lib/python3.12/site-packages (from -r requirements.txt (line 10)) (2024.2.0)\n",
      "Requirement already satisfied: h11==0.14.0 in /Users/ashu/opt/anaconda3/envs/videoDB/lib/python3.12/site-packages (from -r requirements.txt (line 11)) (0.14.0)\n",
      "Requirement already satisfied: httpcore==1.0.2 in /Users/ashu/opt/anaconda3/envs/videoDB/lib/python3.12/site-packages (from -r requirements.txt (line 12)) (1.0.2)\n",
      "Requirement already satisfied: httpx==0.26.0 in /Users/ashu/opt/anaconda3/envs/videoDB/lib/python3.12/site-packages (from -r requirements.txt (line 13)) (0.26.0)\n",
      "Requirement already satisfied: huggingface-hub==0.20.3 in /Users/ashu/opt/anaconda3/envs/videoDB/lib/python3.12/site-packages (from -r requirements.txt (line 14)) (0.20.3)\n",
      "Requirement already satisfied: idna==3.6 in /Users/ashu/opt/anaconda3/envs/videoDB/lib/python3.12/site-packages (from -r requirements.txt (line 15)) (3.6)\n",
      "Requirement already satisfied: packaging==23.2 in /Users/ashu/opt/anaconda3/envs/videoDB/lib/python3.12/site-packages (from -r requirements.txt (line 16)) (23.2)\n",
      "Requirement already satisfied: pydantic==2.6.1 in /Users/ashu/opt/anaconda3/envs/videoDB/lib/python3.12/site-packages (from -r requirements.txt (line 17)) (2.6.1)\n",
      "Requirement already satisfied: pydantic_core==2.16.2 in /Users/ashu/opt/anaconda3/envs/videoDB/lib/python3.12/site-packages (from -r requirements.txt (line 18)) (2.16.2)\n",
      "Requirement already satisfied: python-dotenv==1.0.1 in /Users/ashu/opt/anaconda3/envs/videoDB/lib/python3.12/site-packages (from -r requirements.txt (line 19)) (1.0.1)\n",
      "Requirement already satisfied: PyYAML==6.0.1 in /Users/ashu/opt/anaconda3/envs/videoDB/lib/python3.12/site-packages (from -r requirements.txt (line 20)) (6.0.1)\n",
      "Requirement already satisfied: requests==2.31.0 in /Users/ashu/opt/anaconda3/envs/videoDB/lib/python3.12/site-packages (from -r requirements.txt (line 21)) (2.31.0)\n",
      "Requirement already satisfied: sniffio==1.3.0 in /Users/ashu/opt/anaconda3/envs/videoDB/lib/python3.12/site-packages (from -r requirements.txt (line 22)) (1.3.0)\n",
      "Requirement already satisfied: tokenizers==0.15.1 in /Users/ashu/opt/anaconda3/envs/videoDB/lib/python3.12/site-packages (from -r requirements.txt (line 23)) (0.15.1)\n",
      "Requirement already satisfied: tqdm==4.66.1 in /Users/ashu/opt/anaconda3/envs/videoDB/lib/python3.12/site-packages (from -r requirements.txt (line 24)) (4.66.1)\n",
      "Requirement already satisfied: typing_extensions==4.9.0 in /Users/ashu/opt/anaconda3/envs/videoDB/lib/python3.12/site-packages (from -r requirements.txt (line 25)) (4.9.0)\n",
      "Requirement already satisfied: urllib3==2.2.0 in /Users/ashu/opt/anaconda3/envs/videoDB/lib/python3.12/site-packages (from -r requirements.txt (line 26)) (2.2.0)\n",
      "Requirement already satisfied: videodb==0.0.3 in /Users/ashu/opt/anaconda3/envs/videoDB/lib/python3.12/site-packages (from -r requirements.txt (line 27)) (0.0.3)\n"
     ]
    }
   ],
   "source": [
    "# But first, let's install the dependecies.\n",
    "!pip install -r requirements.txt"
   ]
  },
  {
   "cell_type": "markdown",
   "metadata": {},
   "source": [
    "### Choose the Video\n",
    "\n",
    "You can either use a fresh video from Youtube etc. or choose an exisitng one already uploaded on your VideoDB collection."
   ]
  },
  {
   "cell_type": "code",
   "execution_count": 1,
   "metadata": {
    "scrolled": true
   },
   "outputs": [],
   "source": [
    "import os\n",
    "from dotenv import load_dotenv\n",
    "from video_prompter import get_connection\n",
    "\n",
    "# TODO: setup .env file\n",
    "load_dotenv()\n",
    "OPENAI_KEY = os.getenv('OPENAI_API_KEY')\n",
    "\n",
    "# connect to VideoDB\n",
    "conn = get_connection()\n",
    "\n",
    "### ----- Upload a fresh video --------- #####\n",
    "def fresh_video(url):\n",
    "    video = conn.upload(url=url)\n",
    "    #index spoken content in the video\n",
    "    video.index_spoken_words()\n",
    "    return video\n",
    "\n",
    "#### ------ run the prompt on video --------####\n",
    "def videodb_prompter(video_id, prompt):\n",
    "    video = get_video(video_id)\n",
    "    #get all the segment of videos that are\n",
    "    return video_prompter(video, prompt)"
   ]
  },
  {
   "cell_type": "code",
   "execution_count": 2,
   "metadata": {
    "scrolled": true
   },
   "outputs": [
    {
     "data": {
      "text/plain": [
       "'https://console.videodb.io/player?url=https://stream.videodb.io/v3/published/manifests/90ee9bf5-1dfc-48c8-876a-16c43492e5ee.m3u8'"
      ]
     },
     "execution_count": 2,
     "metadata": {},
     "output_type": "execute_result"
    }
   ],
   "source": [
    "from videodb import play_stream\n",
    "\n",
    "# ----Existing video case ----\n",
    "\n",
    "# TODO: replace with your video id\n",
    "# video_id = \"m-replace-with-your-video-id-24-7\"\n",
    "video_id = 'm-08caaef7-1680-4ca7-9090-38d11668bca9'\n",
    "\n",
    "\n",
    "# ---- Fresh video case ----\n",
    "# url = \"https://www.youtube.com/watch?v=HpUR7-Oe1ss\"\n",
    "# video = fresh_video(url)\n",
    "# video_id = video.id\n",
    "\n",
    "\n",
    "#watch the original video\n",
    "video = conn.get_collection().get_video(video_id)\n",
    "video.player_url"
   ]
  },
  {
   "cell_type": "markdown",
   "metadata": {},
   "source": [
    "### Run your Prompt\n",
    "\n",
    "To create a clip using the `text_prompter` function from a video, it's crucial to craft a specific prompt that will help identify the most relevant segments for your use case. This prompt should highlight the themes, topics, or specific phrases you're interested in. The function then analyzes the video's spoken content to find segments that match your criteria. \n",
    "\n",
    "Before you can use `text_prompter`, make sure the video's spoken content is indexed with the `video.index_spoken_words()` function. This prepares the video for analysis by making its spoken content searchable.\n",
    "\n",
    "The `text_prompter` will return sentences or segments from the video that match your prompt. Review these to ensure they align with your needs. You can then use these segments to create your clip, focusing on the content that's most relevant to your use case."
   ]
  },
  {
   "cell_type": "code",
   "execution_count": 3,
   "metadata": {
    "scrolled": true
   },
   "outputs": [
    {
     "name": "stdout",
     "output_type": "stream",
     "text": [
      "Sendiing call to OPENAISendiing call to OPENAI \n",
      "        You are a video editor who uses AI. Given a user prompt and transcript of a video analyze the text to identify sentences in the transcript relevant to the user prompt for making clips. \n",
      "        - **Instructions**: \n",
      "          - Evaluate the sentences for relevance to the specified user prompt.\n",
      "          - Make sure that sentences start and end properly and meaningfully complete the discussion or topic. Choose the one with the greatest relevance and longest.\n",
      "          - We'll use the sentences to make video clips in future, so optimize for great viewing experience for people watching the clip of these.\n",
      "          - If the matched sentences are not too far, merge them into one sentence.\n",
      "          - Strictly make each result minimum 20 words long. If the match is smaller, adjust the boundries and add more context around the sentences.\n",
      "\n",
      "        - **Output Format**: Return a JSON list named 'sentences' that containes the output sentences, make sure they are exact substrings.\n",
      "        - **User Prompts**: User prompts may include requests like 'find funny moments' or 'find moments for social media'. Interpret these prompts by \n",
      "        identifying keywords or themes in the transcript that match the intent of the prompt.\n",
      "        \n",
      "        Transcript: unds like that's the essence of your business. Cold leave is an all natural ingredient that's derived from fresh green tea. And what we do is there's a particular molecule, the active ingredient in green tea. We extract that and we increase the potency of that particular molecule by 20 times. Explain to me, actually the result. It'll do two things. It will help lower your cholesterol. And we have a clinical trial that we did twelve years ago. It - lowers cholesterol 17% to 20%. And then our chief scientist officer, he went back and looked at the test results when he said the evidence shows that the people who took our product versus the placebo also lost weight. And so we went to the University of Kansas and they came back to us and said, what your product does is it works through the lower intestines as it leaves the body. It takes about 100 calories worth of fat. Is there anybody that should avoid this product, or is it safe for everybody? It's safe for everybody. It's all natural. That doesn't necessarily make it safe for everybody. But at the same time, look, guys, you know, I'm a skeptic on all this stuff. You can't claim that it's gonna reduce 100 calories out of what you eat by taking two pills. We don't make that claim. That's what he said. We are gonna make the claim that it's gonna block fat at a percentage depending on and our schedule. Your t shirts say minus cow. That's the brand name of the company. When a consumer looks at it, what do you think he's gonna think? Minus cow, minus calories. Right. - What is your strategy? What did you minus cat? The strategy is to make you think that this is where we do something. Let me ask my question. How long has this product been around? We just launched, so I assume you have very little sales. Is that right? That's correct. All right, guys, I'm stunned. You guys are dealing and asking these questions. Do you guys really just invented this product out of nothing and gave it a name? What's here? It's my understanding, trying to understand what I'm investing in. Mark, you have a bar. You're investing in high fiber weight. You have a bar. It has natural things. Yours, Mark, it's not Mark. Let me just say this. Mark, Mark. It's not air. Yes, it is. It's not air. No. So you took green. Mark, Mark, let me say this. I had the data to back it up. So listen, if you want to get out, get out. But you're wrong. No, I'm not wrong. So listen, you took green tea extract, right? And you invented a product called green tea extract. That's what you said. I said it's derived from green tea. We take a particular molecule, we increase that concentration by 20 times because that green tea molecule can lower your cholesterol by - 20%. Right. Everybody knows that. Everybody knows what? So listen, I find Mark's points potentially persuasive, but in my philosophy, the way I like to eat is ingredients. You can see and pronounce real food. And I feel nature over thousands of years has nurtured us in such ways that we can just eat the real stuff. Best of luck to you. But I'm out. Here's where I'm at. $500,000 for 20% of a startup that has no revenue is way too high. You asked for too much. You made a strategic error. I'm out. I don't know about Koleve, and I know that it's dangerous to claim that certain products will do miraculous things, like not have fat stay in your body or whatever. So I don't like to associate with those things. I have no problem with you, but I'm out. Look, I. I'm so frustrated. I have no idea. I really don't know what your business is. I don't know what your strategy - is. I really don't know anything, Mark. Sometimes your level of arrogance really pisses me off, and I. Mark, and I. Let me, and I only say that you don't give people a chance. I wish I knew what their business was. If you would let people talk, you know what their product is, Robert, your level of arrogance sometimes just surrounds the room. And your. I'll be respectful to you, Robert. I won't say what I'm thinking. Intimidates people. It intimidates people. And I'm just telling you I have. You might be 100% right. I just wish I had the opportunity to hear it. I know how hard people work to get on that list. You know what's even harder? And you don't give them a chance. You know what's even harder? Let me just say one thing, please. Neither one of us claimed that if you take this product, you'll lose weight. Look at your shirt. I said neither one of us said we would lose weight. Look at your shirt. What does your shirt say? It says fewer calories, Mark. Right. How do you lose weight? Wait, wait. May I please finish? We're not claiming that you're going to lose weight. We're saying that we are gonna take some fat - out of your body. Now, I don't care what you say. I know what my science says, and you're wrong. You're just plain wrong. That particular molecule, that extract, also will help you on your weight. It won't make you. What did you do? It won't make you lose weight. It will help you. It will help you lose weight, but it won't make you lose weight. Actually, Karl, now you're pissing me off. You're digging a deeper, and it's got nothing to worry about. You're kind of losing your not. You said you're not losing weight. What does it say right here? I will stand behind the fact that the goal is to. Did you. No, but yeah. Is to help people. I think we're done here. To everybody who's watching, don't buy it. I'm out. Thank you, gentlemen. Thank you. Go in peace. Thank. Thank you. Mark's never going to invest in a supplement. Millions of people take supplements. It's like saying to a personal trainer who says, I can help you lose weight, and then you hire him and you don't lose any weight, that it was a scam. That's not exactly fair or logical, Daniel. Welcome to our very dysfunctional family. Very - dysfunctional family. Get out crap out of this. They deserve it. But it's a fair passion. They deserve it. That's my point. Take the green tea and chill. Let's all hold hands. Let's all hold hands. I don't want to hold hands. Big hug 100. Next up is a product that began as an elementary school project. Aloha, sharks. I'm Cassidy Crowley. And I'm Lori Crowley, Cassidy's mom. And we're from Honolulu, Hawaii. I'm seeking $50,000 in exchange for 50% of my company. Wow. Sharks. I love to create and invent. When I was seven years old, my baby sister Emily would always plant her spoon and my mom would always get worried that she might accidentally poke or stab her throat. So I wanted to create a product that eliminated that long and sharp design of a traditional spoon. So I invented the baby tube. The baby tune is a combination of a baby spoon and a teethere all in one. The rectangular body makes it easy for - babies to grasp and self feed. The baby toon is made of 100% soft silicone. There are no sharp edges. Such gems on babies gums. And it works great for teething sharks. All parents know that babies love throwing their spoons on the floor. Well, we have a solution for this. Just put a pacifier clip around the baby tune. Oh. And attach it to the baby's shirt. No more baby spoons getting thrown on the floor. But wait, there's more. Baby tune is made right here in the USA, and it was designed and created by me. So, sharks, who's ready to take a bite out of the baby tune? Together we can bring baby tunes to every baby in the world. Wow. Nice. Good job, Cassidy. Great. Oh, my gosh. Samples. We like to pest sharks. How old was Cassidy? I'm ten. She's 1010 going on 34. Oh, are we gonna eat? This - one's for Lori. That's for me. Okay. Should I feed Lori? We brought from Hawaii. We have poi, which is a hawaiian baby food. How did you come up with the design and what did you do to figure that out? So, in first grade, I entered a local science fair when I was seven years old. And we have actually, my sample if you guys want to see it, too. Right now we do. Oh, wow. So that's your prototype? Yeah, this is the one that I made in first grade. Look at this. I mean, partially why I'm just very thankful I'm here is I want to show other kids that they can be open to opportunities they have at school or even at home to create an event. I just really hope I inspire them. It's a dream come true. So are you selling it already or is it. Yeah, we sell our products. So since September of 2018, we had $5,000 in sales. Wow. Thank you. What does it cost? Our total cost is $6.60. And you sell it for how much? We sell it for $15 - for you. Cassie, are you going to be a superstar at your school because you're wearing shark tank? Well, that's obviously not why I'm here. Oh. Even a better answer. Oh, my God. Better answer. Cassidy, it's pretty rare that somebody comes in here and offers us 50%. Why did you do that? I mean, let's face it, I'm only ten years old. I need a partner. I mean, I still have to go to high school. I think you're more of a shark than we are. Cassidy, you've done an amazing, amazing job. I mean, it's incredible. Incredible. Thank you. To have started a business, to develop a product, to see it through to make your way here. I mean, just. I can't even imagine what's next for you. The challenge I have is just. It's really not a fit for me. So I'm out. But great. Great job, Cassidy. Cassidy, I've been doing little businesses since I was a kid. I can already tell from your presence, from your poise, from your grit, that you're gonna go very, very far. This was three years ago, and you - didn't give up. You know, manufacturing can be very tricky. I find it fascinating that you pulled this up. Well, actually, just recently we had to change our durometer of silicone we're using. So we had to lower it. You had to change what? Change the durometer of silicone. What's the durometer? Durometer is how you measure the firmness of silicone. For example? For example, if you have something that's a higher durometer. Who are you, lady? If you have something that's higher durometer silicone, it's going to be more stiff and hard. And \n",
      "        User Prompt: find sentences where a deal is discussed\n",
      "        \n",
      "        Ensure the final output strictly adheres to the JSON format specified without including additional text or explanations.         If there is no match return empty list without additional text. Use the following structure for your response:\n",
      "        {\n",
      "          \"sentences\": [\n",
      "            {},\n",
      "            ...\n",
      "          ]\n",
      "        }\n",
      "        \n",
      " \n",
      "        You are a video editor who uses AI. Given a user prompt and transcript of a video analyze the text to identify sentences in the transcript relevant to the user prompt for making clips. \n",
      "        - **Instructions**: \n",
      "          - Evaluate the sentences for relevance to the specified user prompt.\n",
      "          - Make sure that sentences start and end properly and meaningfully complete the discussion or topic. Choose the one with the greatest relevance and longest.\n",
      "          - We'll use the sentences to make video clips in future, so optimize for great viewing experience for people watching the clip of these.\n",
      "          - If the matched sentences are not too far, merge them into one sentence.\n",
      "          - Strictly make each result minimum 20 words long. If the match is smaller, adjust the boundries and add more context around the sentences.\n",
      "\n",
      "        - **Output Format**: Return a JSON list named 'sentences' that containes the output sentences, make sure they are exact substrings.\n",
      "        - **User Prompts**: User prompts may include requests like 'find funny moments' or 'find moments for social media'. Interpret these prompts by \n",
      "        identifying keywords or themes in the transcript that match the intent of the prompt.\n",
      "        \n",
      "        Transcript: - First into the tank is an eco friendly version of a household staple. Hi, I'm Sarah. And I am Syed. And we're here seeking $270,000 for 2% of our company, blue land. Wow. Sharks. This is what an average household uses in one year in cleaning products. And many of these products, they're over 90% water, which means that you're overpaying for plastic packaging and a ton of water. This is such a waste. Which is why we created our revolutionary eco friendly brand, blue land, where we've turned this into this. So now your pantry can look like this. How does it work? Simply fill your bottle of water, drop in a - tablet. Minutes later, you're ready to get cleaning. And our tablets come with a beautiful, reusable forever bottle, so you never have to throw away another plastic cleaning bottle ever again. Together, we can eliminate approximately 5 billion plastic cleaning bottles each year. Let's save money and space without the plastic waste. Bam. We have samples to pass out. So please take the hand soap. This one? Yep. For you. And then take a tablet with that, too. Do you have anything with packaging? Yes, we have a wrap tablet as well, and I can bring around more. Is it one product cleans all windows and surfaces, or are there multiple products? Multiple tablets, yes. So we have four products. We have a foaming hand soap, and we have three cleaning sprays that includes a multi surface cleaner, a bathroom cleaner, and a glass and mirror cleaner. So, Sarah, what do I pay for it? Our starter sets, which include one bottle and one tablet that costs $12. And our essentials kit, which includes one hand soap and three cleaning - sprays that retails for $39. And what's a refill cost? One tablet costs just $2, which is unequivocally cheaper than going out and buying a full new plastic bottle of cleaner. And what's your background? Are you chemist? I went to Harvard for undergrad economics. After that, I worked in private equity, and then I returned to Harvard for business school. But I actually ended up dropping out in my first year to pursue my first startup. So you're a total slacker. My first startup was a mobile shopping app, and I ended up selling that to one of the world's largest shopping search engines at the time. That's a present. And, Syed, what about you? I actually was born in Pakistan. I moved here when I was ten years old. I grew up here. My parents both passed away. Sorry, that was a difficult thing. I'm the youngest of nine. I have seven sisters. I graduated from University of Pittsburgh with my chemistry degree. Most recently, I was a director of formulation at one of the world's largest non toxic cleaning companies. We are all aware of the problem with - plastics. We're trying to do everything we can to not destroy our planet before it's too late. What's your unique selling proposition or differentiation? So we have really formulated these products to be really, really effective. And again, I come from huge companies. I know how to formulate these products better than, like, the normal, traditional chemistry. Come on, Syed. So the premise is you have the one guy in all the world in chemistry that made a better product. In the face of entrepreneurs, there's three important phases. One is the creative process, which you clearly have done. The second one is the critic, and the third is a crusader. The three cs. That's great. The creative, you've done the critic. You need to be your own worst critic. You need to figure out what is it that is your comparison, to understand whether you really can differentiate yourself from the others. And then if you go through that second phase, then you go to the third phase, and then you're the crusader, and nobody's gonna stop you. But I feel like you skipped the second phase. Please explain to me what differentiates you other than - you being a really great chemist? We have EPA approved third party studies that show that our products were more effective. Laboratory studies. Laboratory studies. We outperformed all of our leading competitors. Guys, how much money have you raised? So we raised $3 million. What? At what valuation? At $13.5 million valuation. And who did you raise it from? A mix of venture capital as well as successful entrepreneurs. Just like this. And you've been selling for how long? So we've been live for just over a month. We've done $200,000 in sales. Okay, that's not horrible. So today, we are 100% direct to consumer selling online. However, we are launching in a big box national retailer at the beginning of next year. I don't think I like that you have just one tablet, one bottle. I think when you see tablets, you buy a bag of dishwashing pellets, and you get a whole bag of them, like, 36 in a bag. So I feel like this needs a strip with it of a whole bunch of tablets. It's much more appealing to a customer that's - looking at it. Listening to Lori, I realized that there's a piece of this she understands far better than I. So I would propose, without consulting with Lori, that we. We invest a million dollars. Whoa. For 25% of the company. Whoa. If you want seen on it, I'm in on it. And if not, I'll eat on it by myself. Every single mistake that you're about to make, we've probably made before, and we're going to be able to help you prevent those mistakes. And I really, really resonate with your immigrant story. And I came from Mexico. My father and my mother didn't have a higher education, and I was able to, from nothing, build a pretty successful company, kind that is now in 300,000 distribution points in every retailer you want to be. I think everything you've done is really brilliant. I'm a huge fan of kind bars, and I like your theory of the word kind. Why did you even put it as kind? Because you wanted to spread kindness. You know, I put it unkind because my father was liberated by - american soldiers from a concentration camp. And in spite of a horrible situation, he always remembered not just the horrors, but the kindness that people showed to him and helped him survive. So it's in honor of. In the tough moments, always being kind to him. It's a great story to it. It is very. I think you need a me. I'm not happy to give them even more money. Are you in the deal or not? I'm gonna change the deal. While you change the deal, I'm gonna make you an offer that's probably more close to what you actually wanted to do. Cause I don't think you're gonna sell 25% of your company here today. All right, what I'd like to do is do 270 for 5%, and I want 1% advisory shares. Because, frankly, I bring a lot to the table. There's only one mister wonderful. While you're mulling that over, and while these guys are trying to take 25% of your business, let me tell you why I'm at the product is easy to use. Changing consumers minds super hard. I'm out. Sorry. All right, - we changed our offer. We're gonna do 270 for 8%. Ouch. Four and four. That's the offer. What are you doing, mark? Guys, look, I don't think you really came here for a deal. You came for the commercial, I'm out. But you still have two offers. My offer is 270,000 for 6%, and the other is 270 for 8%. What do you want to do? Two sharks are out. Sarah and Syed came in seeking $270,000 for 2% of their eco friendly cleaning product company, Blueland. Lori and Daniel have offered 270,000 for 8%, and Kevin has offered 270,000 for 6%. What do you want to do? We can't give away that much. You guys know as much as we do. Shocking that it is pretty. Do you have a counter for any of us? Mean, high growth business. Do you have a counter for any of us? 270 at 3%. Ooh. You guys really gave in. I would love the opportunity - just to say one more thing, sir. For the theme of compromise, I'll go to 5% for the 270. We're not going down. It's, like, already too little. Is it, Kevin? Yes. We know you like a good royalty. We kept you at 3% for 270, but then we give you a royalty of kit until you make your money back. Done. Thank you so much. Really excited. Great job, Sarah. Good luck, guys. Oh, my goodness. Love it. Oh, my God. The way we were to start it, I thought there was no way we wanted. Oh, my goodness. There's a woman royal. Understands me. Next into the tank is what the entrepreneurs believe is a solution to a growing problem in America. My name is Barrett Jocks, and I'm from Nashville, Tennessee. And I'm Chrom Carmichael, also from Nashville, Tennessee. The name of our company is minuscal. We're seeking $500,000 for 20% of the business. Now, 45 - million americans go on a diet each year. But the fact that 70% of adults are either obese or overweight means that something's not working. We need more lettuce and fewer french fries. That's easy to say, harder to do, and it's always a lot less fun. That's where minus cow comes in. A science based snack bar and diet tablet that block fat when you eat it. And how does my scalp block fat? So imagine your digestive tract is a party. And our ingredient, the coleve, is the bouncer. When the fat shows up at the party without an invitation, coleve escorts the fat out of the party and out of your system, keeping you from absorbing those calories from fat. It's that simple. Kolev is not a sketchy chemical. Koh leave is a proprietary, all natural blend coming from fermented tea. That's our trade secret. And we're able to put coleafe in a variety of delicious foods. Minus cow is a great way to - lose weight and to achieve better health. So, sharks, who's ready to have your cake and eat it too? With minuscal, do we get samples? I'm gonna give them to you right now, Lori. Thank you. Thank you so much. You're very welcome. Oh, is this pill like in the matrix? That's right. One red, one, one blue. Red, one blue. If you take two of those pills before a meal, it will help lowering cholesterol. I've been taking the product for about twelve years. Doesn't taste great. What? Doesn't taste that great. Can you walk us through the cool again? And what is it you spoke about very fast? Sure. So\n",
      "        User Prompt: find sentences where a deal is discussed\n",
      "        \n",
      "        Ensure the final output strictly adheres to the JSON format specified without including additional text or explanations.         If there is no match return empty list without additional text. Use the following structure for your response:\n",
      "        {\n",
      "          \"sentences\": [\n",
      "            {},\n",
      "            ...\n",
      "          ]\n",
      "        }\n",
      "        \n",
      "Sendiing call to OPENAI \n",
      "        You are a video editor who uses AI. Given a user prompt and transcript of a video analyze the text to identify sentences in the transcript relevant to the user prompt for making clips. \n",
      "        - **Instructions**: \n",
      "          - Evaluate the sentences for relevance to the specified user prompt.\n",
      "          - Make sure that sentences start and end properly and meaningfully complete the discussion or topic. Choose the one with the greatest relevance and longest.\n",
      "          - We'll use the sentences to make video clips in future, so optimize for great viewing experience for people watching the clip of these.\n",
      "          - If the matched sentences are not too far, merge them into one sentence.\n",
      "          - Strictly make each result minimum 20 words long. If the match is smaller, adjust the boundries and add more context around the sentences.\n",
      "\n",
      "        - **Output Format**: Return a JSON list named 'sentences' that containes the output sentences, make sure they are exact substrings.\n",
      "        - **User Prompts**: User prompts may include requests like 'find funny moments' or 'find moments for social media'. Interpret these prompts by \n",
      "        identifying keywords or themes in the transcript that match the intent of the prompt.\n",
      "        \n",
      "        Transcript: if you have something that's a lower durometer of silicone, it's going to be more flexible. Cassie, do you have a patent on it? Yeah, we have our patents right here, actually. Wow. Cassidy, I am beyond impressed. I know you're not allowed to do this in the United States of America, but if in 20 years you want to marry one of my kids, I'd be very delighted. But in all seriousness, you're so impressive, but don't understand the baby's pace. And for those reasons, I'm out. Thank you so much. Cassidy, I'm torn because I don't feel that you're willing to quit - elementary school. I can go straight to college. Honestly, I don't want you to quit school. It's a little early. I'm out. Cassidy, this is a great product. You just absolutely blow me away. You said you always wanted to go on shark tank, and I'm so proud if we had any part in your wanting to become an entrepreneur. So guess what, young lady. I'm gonna make you an offer because I have to be along with this. This journey. I'm giving you. 50,000 for 50%. Wow. Lori, you have a deal. Congratulations. Oh, my gosh. You are just amazing. Amazing. Bye bye. I'll see you soon. Bad guys. Anthony, before you leave, come up here, sit in the shark chair. Oh, yes. That's where you're going. Let's see you. How does it feel? Yeah. Cassidy. Cassie, look at Kevin and say - you're dead to me. Congrats, Cassidy. Thank you. Thank you. Congrats. Thank you. Oh, my gosh. Can't believe we got it. You. What's fascinating about shark tanks, I have four kids. My youngest is six years old, and she gets glued to the tv. It's very engaging. Isn't that amazing? It's amazing. First into the tank is a way to bring some sunshine into your life. Hi, my name is Amber Leung, and I'm seeking $750,000 in exchange for 10% of my company, circadian optics. Wow. Sharks. Close your eyes and imagine you're inside a dark, windowless room. Now open your eyes and picture yourself outside on a bright, sunny morning with sun in your eyes. Since the beginning of time, the sun has risen in the morning and set in the - evening. This is the cycle of life itself. Just like diet and exercise, light is vital to our physical and mental health. We used to spend all day hunting and foraging outside, but today, all of us slog away inside a dark office all day. We're not getting enough. This is disrupting our body clock and is making us tired and unhealthy. But what if there was a way we could bring the sun right to your desk? Now you can. With circadian optics, we make bright light therapy lamps that mimics the color and the brightness of the sun. Using this for minutes will help set your body clock for the day ahead. It's a mini sun on your desk. Sharks help us bring more light into people's lives. Who's ready to turn - on their day with circadian optics? Amber, what was your inspiration behind this? So, I'm originally from Malaysia, but I currently live in Minnesota. That's where you got. That explains right there. You've given me the answer. In Minnesota, see the sun six months out of the year. But because I was working at a corporate job, I didn't see the sun twelve months out of the year. And the lack of light was really affecting my health. I was feeling sluggish at work. I couldn't sleep at night, and I realized the importance of circadian rhythm and light. So I bought a light therapy lamp. I felt better in a couple of days. But the problem was my coworkers would tease me endlessly because of the design of. It was this big, white fluorescent lamp that took a lot of space on my desk. It made me look like the crazy person in the office. So there was a gap in the - marketplace for a light therapy lamp that is effective, but at the same time, stylish. You're putting a real evaluation on the table, right. You're saying my company's worth $7.5 million, and therefore you must have blockbuster sales. I do. My lifetime sales is $7.4 million. I hate lifetime sales. What about the last annual sales, please? Last year, I sold $4 million. Wow. That's fantastic. Thank you. Are all of your sales online? All of our sales are online. What is your average sale online? Average sale is $57.99. Now, what are your margins, Amber? My margin is 70%. So you gotta be making money hand over foot. I have been doing okay, but. So if you have 70% margin, you're selling all online. Either you have ungodly returns or something really wrong. So last year, I have made $652,000. What's this year gonna be? This - year I'm projected to do $5.6 million. What are you gonna make on the 5.6 million? I'm going to make $1.3 million with the tariffs accounted for. So you're making 20 plus percent margins per tariff, right? Yes, 25%. Why do you need a shark? Yeah. So I am here because I am looking for a strategic partner that can help take my company to the next level. Right now, I'm a $5 million company, and I sell only online. That might be a good thing if I want to go into retail. And it's a different. It's such a different ballgame. I want it to be worth the work. Amber, what is your backstory? My personal background. So I'm originally from Malaysia. I grew up pretty poor. I actually, the house that I lived in didn't have indoor plumbing, but I always had the dream of coming to America. I think too many episodes of full house. And when it was time to go to college, I told - my parents I wanted to come to America. And they said, okay, let's do this together. They cashed out their retirement fund. They borrowed money from their family and friends to send me to school here on a one way ticket and school fees and living expenses for one semester. But they gave everything they could to me. So, like, that is how much faith they have in me. Nine months after coming to America, I was diagnosed with toxic shock syndrome. I was given a 50% chance of surviving, but my parents couldn't come because they didn't have an american visa. But I survived. That was a gift. It gave me a new perspective in life, and it made me ask myself, what am I going to do with my one wild and precious life? So I went to grad school. I got a six figure job, and - I gave back. I sent money home, and I wouldn't have enough savings. I asked myself, I want to do something courageous. I have to take a chance. So I had this idea, and I need to choose creativity over certainty, and that drives and motivates me every single day. How lucky and blessed am I? Great job. Thank you. You represent why we all do this show. You represent to everybody in America, everybody around the world that watches this show, that doesn't matter where you come from, if you put your mind to it, anything is possible. You represent everything great about entrepreneurship, the american dream. You are freedom. So thank you for sharing that with us. It's just incredible. No balls, no babies. Amen, baby. To me, with an entrepreneur, if you look at a field - of dandelions, do you see a field of weeds? Do you see a field of wishes? Right. I want to invest in people that see a field of wishes, and that's who I think you are. I would like to help you. Mm hmm. And to blow all your wishes all over America, this product. But I'd like another shark with me. Okay. Okay. All sharks are still in. Lori is interested in Amber's light therapy business, circadian optics, but she wants to partner with another shark. I would like to help you and to blow all your wishes all over America, this product. But I'd like another shark with me. Okay. Okay. And I am looking over at Mark. So, Mark, would you be interested? Yeah, I'm open. I'm hoping you would go in with me. Yeah, of course. Well, why don't you hear what it is first? Mark and I need to have a conference. So what do you want? If I give you $750,000 and I'm an outside investor. An investor? I'm not an operator. Yep. How do I get it back? So you will get it - back when we scale. So you mean you're going to give me 10% of distributions when you pay yourself? We will have that discussion, but I'm open to that. What do you need the money for? You seem so self sufficient. I'm wondering why you need any help. The 750,000 we're going to spend on inventory. There are a lot of things on social and.com. okay. We have an offer. Yes. And it's coming from the boss before they go in. Then I think you're an amazing human being. Thank you. Like your immigrant story. I bond with in a massive way. Thank you. I've taken risks, but not the way you did with your entire family's background on the line. So I take my hat off to you on that. Thank you, Rohan. But I'm not seeing honestly the value that I could provide. I'm out. Okay. Got it. Okay. We'll thank you. Barbara and I will put our offer out first. Okay. All right. Because I think we bring a lot. Okay. I think Lori first. Cause then they discussed longer, so to be fair. Okay, here's our offer. Mark and I are gonna give you the - 750,000 for 20%. Cause you got us both. Okay. Thank you. Thank you for the offer. Can I listen to Barbara's and Kevin's offer? We're gonna give you exactly the same offer. I look at this and say, we could probably help you double your sales very, very quickly and probably help you a lot in your manufacturing because I have a lot of products. Well, give an extra 50 for your parents, who are unbelievable people. They will cry. It's the same offer. I don't know about the parental thing. Is that coming out of the 750 they're giving you, or are you giving them an extra 50? We'll give them an extra 50. Amber, you have to decide. No balls, no babies. No balls, no babies. So, okay. I know I should negotiate, be a good business partner, but I am here for Lori and Mark. Both of you, you have a deal. Oh, my God. That's awesome, Laurie. Thank - you. Thank you so much. Congratulations. One of the best presentations. One of the best. Thank you very much. Congrats, Amber. Thank you. I've never dreamed this big. I'm just a girl from a small town in Malaysia. I went to the bathroom in an outhouse, and now I'm in La pitching to the shark. If you h\n",
      "        User Prompt: find sentences where a deal is discussed\n",
      "        \n",
      "        Ensure the final output strictly adheres to the JSON format specified without including additional text or explanations.         If there is no match return empty list without additional text. Use the following structure for your response:\n",
      "        {\n",
      "          \"sentences\": [\n",
      "            {},\n",
      "            ...\n",
      "          ]\n",
      "        }\n",
      "        \n",
      "Sendiing call to OPENAI \n",
      "        You are a video editor who uses AI. Given a user prompt and transcript of a video analyze the text to identify sentences in the transcript relevant to the user prompt for making clips. \n",
      "        - **Instructions**: \n",
      "          - Evaluate the sentences for relevance to the specified user prompt.\n",
      "          - Make sure that sentences start and end properly and meaningfully complete the discussion or topic. Choose the one with the greatest relevance and longest.\n",
      "          - We'll use the sentences to make video clips in future, so optimize for great viewing experience for people watching the clip of these.\n",
      "          - If the matched sentences are not too far, merge them into one sentence.\n",
      "          - Strictly make each result minimum 20 words long. If the match is smaller, adjust the boundries and add more context around the sentences.\n",
      "\n",
      "        - **Output Format**: Return a JSON list named 'sentences' that containes the output sentences, make sure they are exact substrings.\n",
      "        - **User Prompts**: User prompts may include requests like 'find funny moments' or 'find moments for social media'. Interpret these prompts by \n",
      "        identifying keywords or themes in the transcript that match the intent of the prompt.\n",
      "        \n",
      "        Transcript: ave the chance and the opportunity to reach for your dreams, reach for your dreams. Next up is a quick boost of a life essential. Hello, sharks. My name is Rob Nooner. I'm the CEO and founder of Boost Oxygen. Hi, sharks. My name is Mike Grice. I'm the chief operating officer of Boost oxygen. Oxygen is the most essential element for the heart, for the brain, and for the muscles to function. We've all seen supplemental oxygen being utilized by professional football players on the sidelines, by aviators, by mountaineers, and by many other people for many different purposes. Boost oxygen is 95% pure aviators breathing oxygen - compressed into affordable and portable aluminum canisters. It's an all natural product for health and wellness, but it's not a medical device. Our mission at boost oxygen is to make compressed oxygen as available as model one. And Kevin, if we sucked all the oxygen out of this room, we'd all be literally dead to you right now. So sometimes you want more. We believe that by partnering with one of you, we'll be able to reach millions of people who want to improve their quality of life and their performance. So what we're gonna do, we're all gonna try the ox at the same time. So you take the mask, you put it under the nose and over the mouth, then you press the trigger right here at the top. Inhale it for a couple of seconds. We're gonna do it to save time. So, you ready? One, two, three. So what we're asking for is a $1 million capital investment for a 5% equity stake in boost oxygen. Wait, I'm out. What are your sales? This year will be 6.4 million. And are you profitable? We are profitable. In - 2018, we had $705,000 in net income. And how much would you make this year, you think? This year, we're gonna make about 1.5. Okay, really? Who's using? This really started at altitude, because it's an intuitive product. When you go up from Florida to Vail and you go skiing and you're breathing hard, you see oxygen. Like, I'm going to try that. You try it, and you like it. You use it when you're there. When you go back to Florida and you're breathing hard, you're exercising. Anytime that you're breathing hard, is your body telling you need more oxygen? Okay, so talk about competition, because I know the Mavs use a different type of canister than this. We do have competitors, but what we're trying to do is we're trying to create a new space, a new market, a new vertical, because there is no oxygen vertical. Very nice to hear. But where do you rank with your competitors? We have roughly 95% market share in the United States. States. Whoa. So what's the cost of this to the consumer? $14.99. 999. 799. For the two liter. The cost is $2.05 to manufacture in aggregate for all of our different. All of it. How many hits do you get? 200 inhalations. Is this FDA approved? It's not regulated by the FDA. Someone here - gives you a million bucks. Great. Now what are you gonna do with that? First thing we're going to do is we need to expand our staff. We would like to have greater control over our sales force. Right now, we work with brokers, we work with distributors, retailers. Yeah. You really want to go to retail? Yes. Why not just stay the course online? Because what I'm worried about is there'll be a lot of delistings in stores that don't turn this stuff, it's an impulse purchase. So the problem at the moment is the impulse purchase means I'm in the mountain. I feel like I need oxygen or I'm out of breath, I'm going to impulse buy. That's a decent market, the great market. A brand you have to use on a routine basis. My concern is you're trying to educate people on a problem they don't really know they have. And so, unfortunately, for that reason, I'm out. Okay. Yeah. Appreciate it. I had an experience with your particular brand when I was in Utah with my husband bill, who has breathing issues. I wholeheartedly agree with you that you need to do retail because I - don't think people take the time to think. Let me order a supply online. But as you've already learned, it's a very expensive proposition. More importantly, I saw a beach house last week that was exactly a million dollars, and it was beautiful. What beach? Oh, it was cheap. And I'm not telling you because you'll probably try to overbid me, but here's the skinny. I'd much rather have that beach house for the million dollars. So I'm out. Okay. I appreciate. Even when I love people, I don't always feel like it's the right deal for me. Love you. I'm sorry. I'm out. Okay. Thank you. I appreciate it, guys. It's rare that we have a company. Come on. That has 95% market share. Just doesn't happen. So, congratulations. But in looking at the five of us, none of us took it and said, wow, this is a no brainer. We all had to, like, wait, do I feel anything? That's not good. Normally, I can come up with an angle for anything, to get it on a ubiquitous path. I just. I don't see it. So for those reasons, I'm out. I'm gonna - make you an offer. But before I do, I want you to take a big breath, because you're gonna need it. Okay. Let's do it together. You're not gonna like the number, and it's not gonna be equity, that's for sure. I feel better about this offer than I even felt a few seconds ago. So here's what it is. You have good cash flow in this company, so you can support some debt. I'm going to give you the million bucks in a loan. 36 months, three years. Okay. 9% interest. And I want seven and a half percent equity. The great thing about being a shark is every buyer calls you back, always. So that's an offer that I think is a very good one for you. Because there's only one mister wonderful. I don't know why you wouldn't accept that. I think it's a great offer. Well, I'm still concerned about taking on debt when we don't need to take on debt, especially 9%. So what? You asked for a million dollars. I have no choice about how you get over. Buy in, though. Wasn't really. It's like we don't need the cash. We need someone just buy in. No shark up here is going to give you a million bucks for 5%. Because they never get their money back until there's an exit. We don't know when that's going to happen. You're allowed to counter? - Yeah, or he'll pull it. Okay. Right. So we'll do a million for 6% of the. Not 6%, 6%. Sorry, the interest rate. Yeah. The deal now is you're countering me. Instead of giving me 9% interest, you want to give me six. But I keep my seven and a half percent. Right. 5% for 5%. Five. All right. Because we're all reasonable. We meet in the middle. That's how we get this deal done. So I'm at nine, you're at six. Seven and a half percent interest, no problem. And 6% equity. Six and a quarter. Pretty sharpening old number one is there when we're cutting. I think the deal is reasonable. Let's go. Good. We'll take the deal. Thank you, guys. I like it. I like it. I appreciate it. Thank you. Bye. Good luck. Gonna need it. No, I'm kidding. Quite honestly, I was very surprised to be shaking hands with Mister wonderful. Talking about a million dollar deal and the input that we received from the entire tank of sharks. It's going to do nothing - but take us from good to great. -\n",
      "        User Prompt: find sentences where a deal is discussed\n",
      "        \n",
      "        Ensure the final output strictly adheres to the JSON format specified without including additional text or explanations.         If there is no match return empty list without additional text. Use the following structure for your response:\n",
      "        {\n",
      "          \"sentences\": [\n",
      "            {},\n",
      "            ...\n",
      "          ]\n",
      "        }\n",
      "        \n",
      "{'id': 'chatcmpl-9npHEjF98fPwNMmY6k1r8LuciriSp', 'object': 'chat.completion', 'created': 1721662208, 'model': 'gpt-4-0613', 'choices': [{'index': 0, 'message': {'role': 'assistant', 'content': '{\\n  \"sentences\": [\\n    \"Here\\'s where I\\'m at. $500,000 for 20% of a startup that has no revenue is way too high. You asked for too much. You made a strategic error. I\\'m out.\",\\n    \"I\\'m seeking $50,000 in exchange for 50% of my company.\",\\n    \"Our total cost is $6.60. And you sell it for how much? We sell it for $15 - for you.\",\\n    \"Cassidy, it\\'s pretty rare that somebody comes in here and offers us 50%. Why did you do that? I mean, let\\'s face it, I\\'m only ten years old. I need a partner. I mean, I still have to go to high school.\"\\n  ]\\n}'}, 'logprobs': None, 'finish_reason': 'stop'}], 'usage': {'prompt_tokens': 2764, 'completion_tokens': 162, 'total_tokens': 2926}, 'system_fingerprint': None}\n",
      "{'id': 'chatcmpl-9npHEptSvMT6Tm72GESZJFWOkIz2q', 'object': 'chat.completion', 'created': 1721662208, 'model': 'gpt-4-0613', 'choices': [{'index': 0, 'message': {'role': 'assistant', 'content': '{\\n  \"sentences\": [\\n    \"Cassidy, this is a great product. You just absolutely blow me away. You said you always wanted to go on shark tank, and I\\'m so proud if we had any part in your wanting to become an entrepreneur. So guess what, young lady. I\\'m gonna make you an offer because I have to be along with this. This journey. I\\'m giving you. 50,000 for 50%. Wow. Lori, you have a deal. Congratulations.\",\\n    \"Hi, my name is Amber Leung, and I\\'m seeking $750,000 in exchange for 10% of my company, circadian optics.\",\\n    \"Mark and I need to have a conference. So what do you want? If I give you $750,000 and I\\'m an outside investor. An investor? I\\'m not an operator. Yep. How do I get it back? So you will get it back when we scale. So you mean you\\'re going to give me 10% of distributions when you pay yourself? We will have that discussion, but I\\'m open to that. What do you need the money for? You seem so self sufficient. I\\'m wondering why you need any help. The 750,000 we\\'re going to spend on inventory. There are a lot of things on social and.com. okay. We have an offer. Yes.\",\\n    \"Okay, here\\'s our offer. Mark and I are gonna give you the 750,000 for 20%. Cause you got us both. Okay. Thank you. Thank you for the offer. Can I listen to Barbara\\'s and Kevin\\'s offer? We\\'re gonna give you exactly the same offer.\",\\n    \"So, okay. I know I should negotiate, be a good business partner, but I am here for Lori and Mark. Both of you, you have a deal. Oh, my God. That\\'s awesome, Laurie.\"\\n  ]\\n}'}, 'logprobs': None, 'finish_reason': 'stop'}], 'usage': {'prompt_tokens': 2766, 'completion_tokens': 399, 'total_tokens': 3165}, 'system_fingerprint': None}\n",
      "{'id': 'chatcmpl-9npHDzTn3vH7XRaFI95VJ07awMwVp', 'object': 'chat.completion', 'created': 1721662207, 'model': 'gpt-4-0613', 'choices': [{'index': 0, 'message': {'role': 'assistant', 'content': '{\\n  \"sentences\": [\\n    \"So what we\\'re asking for is a $1 million capital investment for a 5% equity stake in boost oxygen.\",\\n    \"This year, we\\'re gonna make about 1.5.\",\\n    \"Someone here - gives you a million bucks. Great. Now what are you gonna do with that? First thing we\\'re going to do is we need to expand our staff.\",\\n    \"My concern is you\\'re trying to educate people on a problem they don\\'t really know they have. And so, unfortunately, for that reason, I\\'m out.\",\\n    \"I\\'d much rather have that beach house for the million dollars. So I\\'m out.\",\\n    \"It\\'s rare that we have a company. Come on. That has 95% market share. Just doesn\\'t happen. So, congratulations.\",\\n    \"I\\'m gonna - make you an offer. But before I do, I want you to take a big breath, because you\\'re gonna need it.\",\\n    \"I\\'m going to give you the million bucks in a loan. 36 months, three years. Okay. 9% interest. And I want seven and a half percent equity.\",\\n    \"Well, I\\'m still concerned about taking on debt when we don\\'t need to take on debt, especially 9%.\",\\n    \"So we\\'ll do a million for 6% of the. Not 6%, 6%. Sorry, the interest rate.\",\\n    \"Five. All right. Because we\\'re all reasonable. We meet in the middle. That\\'s how we get this deal done. So I\\'m at nine, you\\'re at six. Seven and a half percent interest, no problem. And 6% equity.\",\\n    \"Six and a quarter. Pretty sharpening old number one is there when we\\'re cutting. I think the deal is reasonable. Let\\'s go. Good. We\\'ll take the deal.\",\\n    \"Quite honestly, I was very surprised to be shaking hands with Mister wonderful. Talking about a million dollar deal and the input that we received from the entire tank of sharks. It\\'s going to do nothing - but take us from good to great.\"\\n  ]\\n}'}, 'logprobs': None, 'finish_reason': 'stop'}], 'usage': {'prompt_tokens': 2090, 'completion_tokens': 445, 'total_tokens': 2535}, 'system_fingerprint': None}\n",
      "{'id': 'chatcmpl-9npHE1kU2PCmPAkRY6k7pBmFCwQqw', 'object': 'chat.completion', 'created': 1721662208, 'model': 'gpt-4-0613', 'choices': [{'index': 0, 'message': {'role': 'assistant', 'content': '{\\n  \"sentences\": [\\n    \"We\\'re seeking $270,000 for 2% of our company, blue land.\",\\n    \"So we raised $3 million. What? At what valuation? At $13.5 million valuation.\",\\n    \"So we\\'ve been live for just over a month. We\\'ve done $200,000 in sales.\",\\n    \"So I would propose, without consulting with Lori, that we. We invest a million dollars. Whoa. For 25% of the company.\",\\n    \"If you want seen on it, I\\'m in on it. And if not, I\\'ll eat on it by myself.\",\\n    \"All right, what I\\'d like to do is do 270 for 5%, and I want 1% advisory shares. Because, frankly, I bring a lot to the table.\",\\n    \"All right, - we changed our offer. We\\'re gonna do 270 for 8%. Ouch. Four and four. That\\'s the offer.\",\\n    \"Guys, look, I don\\'t think you really came here for a deal. You came for the commercial, I\\'m out.\",\\n    \"But you still have two offers. My offer is 270,000 for 6%, and the other is 270 for 8%. What do you want to do?\",\\n    \"Two sharks are out. Sarah and Syed came in seeking $270,000 for 2% of their eco friendly cleaning product company, Blueland. Lori and Daniel have offered 270,000 for 8%, and Kevin has offered 270,000 for 6%. What do you want to do?\",\\n    \"We can\\'t give away that much. You guys know as much as we do.\",\\n    \"Do you have a counter for any of us? Mean, high growth business. Do you have a counter for any of us? 270 at 3%.\",\\n    \"I would love the opportunity - just to say one more thing, sir. For the theme of compromise, I\\'ll go to 5% for the 270.\",\\n    \"We\\'re not going down. It\\'s, like, already too little. Is it, Kevin? Yes. We know you like a good royalty. We kept you at 3% for 270, but then we give you a royalty of kit until you make your money back.\",\\n    \"Done. Thank you so much. Really excited.\",\\n    \"The name of our company is minuscal. We\\'re seeking $500,000 for 20% of the business.\"\\n  ]\\n}'}, 'logprobs': None, 'finish_reason': 'stop'}], 'usage': {'prompt_tokens': 2701, 'completion_tokens': 526, 'total_tokens': 3227}, 'system_fingerprint': None}\n"
     ]
    }
   ],
   "source": [
    "from video_prompter import text_prompter\n",
    "\n",
    "#Choose a prompt to create create clip. \n",
    "user_prompt = \"find sentences where a deal is discussed\"\n",
    "result = text_prompter(video.get_transcript_text(), user_prompt)"
   ]
  },
  {
   "cell_type": "markdown",
   "metadata": {},
   "source": [
    "### Generate the Clip\n",
    "\n",
    "To generate a clip, we'll  use **VideoDB**'s `keyword search` feature. We already leveraged the power of the LLM (Large Language Model) to identify relevant sentences. We'll use the search results to create a `programmable video stream`. Here's how you can approach this process:\n",
    "\n",
    "We have the keywords in the `results` variable. Input these keywords into VideoDB's keyword search feature. This function will search through the indexed spoken content of your videos to find matches. \n",
    "\n",
    "The search will return a SearchResult object, which contains detailed information about the found segments, including their timestamps, the text of the spoken content, and possibly other metadata.\n",
    "\n",
    "**Create a Programmable Video Stream with Timeline**: With the specific segments identified, you can now use the Timeline to create a new programmable video stream. The Timeline tool allows you to stitch together video segments based on the timestamps provided in the SearchResult object. You can arrange, cut, or combine these segments to craft a fresh video stream that focuses on your topic of interest."
   ]
  },
  {
   "cell_type": "code",
   "execution_count": 4,
   "metadata": {},
   "outputs": [],
   "source": [
    "# search matching video segments and watch the stream\n",
    "from videodb import SearchType\n",
    "from videodb.timeline import Timeline, VideoAsset, AudioAsset\n",
    "\n",
    "timeline = Timeline(conn)\n",
    "for clip_sentences in result:\n",
    "    search_res = video.search(clip_sentences, search_type=SearchType.keyword)\n",
    "    matched_segments = search_res.get_shots()\n",
    "    \n",
    "    #no exact match found.\n",
    "    if len(matched_segments) == 0:\n",
    "        continue\n",
    "\n",
    "    #video segment\n",
    "    video_shot = matched_segments[0]\n",
    "\n",
    "    #Create a new Video Asset and add it to a timeline.\n",
    "    timeline.add_inline(VideoAsset(asset_id=video.id, start=video_shot.start, end=video_shot.end))"
   ]
  },
  {
   "cell_type": "code",
   "execution_count": 5,
   "metadata": {},
   "outputs": [
    {
     "name": "stdout",
     "output_type": "stream",
     "text": [
      "https://stream.videodb.io/v3/published/manifests/90c32c7c-332f-45d2-b186-48da67ad3978.m3u8\n"
     ]
    },
    {
     "data": {
      "text/plain": [
       "'https://console.videodb.io/player?url=https://stream.videodb.io/v3/published/manifests/90c32c7c-332f-45d2-b186-48da67ad3978.m3u8'"
      ]
     },
     "execution_count": 5,
     "metadata": {},
     "output_type": "execute_result"
    }
   ],
   "source": [
    "stream = timeline.generate_stream()\n",
    "print(stream)\n",
    "play_stream(stream)"
   ]
  },
  {
   "cell_type": "markdown",
   "metadata": {},
   "source": [
    "### Modify the Timeline\n",
    "\n",
    "The programmable stream part of VideoDB allows you to not just watch the original clip but also modify and personalize the stream. Here we can add up the logo on each clip easily. You can read more about it here - https://docs.videodb.io/version-0-0-3-timeline-and-assets-44"
   ]
  },
  {
   "cell_type": "code",
   "execution_count": 49,
   "metadata": {},
   "outputs": [
    {
     "name": "stdout",
     "output_type": "stream",
     "text": [
      "Image(id=img-87fc6898-18ae-4d80-be51-cb12c7bd3dd1, collection_id=c-4adcd68a-50ef-4996-a37d-763af1d2d819, name=2hYi816d0St8fZ7RTNWeScRKpk)\n"
     ]
    }
   ],
   "source": [
    "# upload Image\n",
    "from videodb import MediaType\n",
    "\n",
    "image = conn.upload(url=\"https://www.freepnglogos.com/uploads/logo-ig-png/logo-ig-instagram-new-logo-vector-download-13.png\", media_type=MediaType.image)\n",
    "print(image)"
   ]
  },
  {
   "cell_type": "code",
   "execution_count": 50,
   "metadata": {},
   "outputs": [],
   "source": [
    "from videodb.asset import VideoAsset, AudioAsset, ImageAsset\n",
    "\n",
    "image_asset = ImageAsset(\n",
    "    asset_id=image.id,\n",
    "    width=100,\n",
    "    height=100,\n",
    "    x=80,\n",
    "    y=20,\n",
    "    duration=7\n",
    ")"
   ]
  },
  {
   "cell_type": "code",
   "execution_count": 51,
   "metadata": {},
   "outputs": [
    {
     "data": {
      "text/plain": [
       "'https://console.videodb.io/player?url=https://stream.videodb.io/v3/published/manifests/ef726137-6d9d-4497-b833-116a4d464861.m3u8'"
      ]
     },
     "execution_count": 51,
     "metadata": {},
     "output_type": "execute_result"
    }
   ],
   "source": [
    "timeline.add_overlay(0, image_asset)\n",
    "stream = timeline.generate_stream()\n",
    "play_stream(stream)"
   ]
  },
  {
   "cell_type": "markdown",
   "metadata": {},
   "source": [
    "### Bonus : Ranking using LLM\n",
    "If you want to choose only a few top results and wodering how to do it, have LLM to rank your results and create a score that you can use to decide the order of segments. You can modify the ranking prompt creativiely to drive the outcome of it. We would love to see what you create 🙌🏼"
   ]
  },
  {
   "cell_type": "code",
   "execution_count": 60,
   "metadata": {},
   "outputs": [],
   "source": [
    "from llm_agent import LLM\n",
    "import re\n",
    "import json\n",
    "from math import floor\n",
    "\n",
    "def ranking_prompt_llm(text, prompt):\n",
    "    ranking_prompt = \"\"\"Given the text provided below and a specific User Prompt, evaluate the relevance of the text\n",
    "    in relation to the user's prompt. Please assign a relevance score ranging from 0 to 10, where 0 indicates no relevance \n",
    "    and 10 signifies perfect alignment with the user's request.\n",
    "    The score quality also increases when the text is a complete senetence, making it perfect for a video clip result\"\"\"\n",
    "\n",
    "    # pass the data\n",
    "    ranking_prompt += f\"\"\"\n",
    "    text: {text}\n",
    "    User Prompt: {prompt}\n",
    "    \"\"\"\n",
    "\n",
    "    # Add instructions to always return JSON at the end of processing.\n",
    "    ranking_prompt += \"\"\"\n",
    "    Ensure the final output strictly adheres to the JSON format specified, without including additional text or explanations. \n",
    "    Use the following structure for your response:\n",
    "    {\n",
    "      \"score\": <relevance score>\n",
    "    }\n",
    "    \"\"\"\n",
    "    try:\n",
    "        response = LLM().chat(message=ranking_prompt)\n",
    "        print(response)\n",
    "        output = response[\"choices\"][0][\"message\"][\"content\"]\n",
    "        res = json.loads(output)\n",
    "        score = res.get('score')\n",
    "        return score\n",
    "    except Exception as e:\n",
    "        return 0 \n",
    "\n",
    "def rank_results(res, prompt, score_percentage=0.40):\n",
    "    \"\"\"\n",
    "    rank and give score to each result\n",
    "    \"\"\"\n",
    "    res_score = []\n",
    "    for text in res:\n",
    "        res_score.append((text, ranking_prompt_llm(text,prompt)))\n",
    "    \n",
    "    res_score_sorted = sorted(res_score, key=lambda x: x[1], reverse=True)\n",
    "    return res_score_sorted[0: floor(len(res_score_sorted)*score_percentage)]"
   ]
  },
  {
   "cell_type": "code",
   "execution_count": 63,
   "metadata": {
    "scrolled": true
   },
   "outputs": [
    {
     "name": "stdout",
     "output_type": "stream",
     "text": [
      "{'id': 'chatcmpl-8vLUCC1Eg5sAaEoM7HF2oGx7xvqXP', 'object': 'chat.completion', 'created': 1708677980, 'model': 'gpt-4-0613', 'choices': [{'index': 0, 'message': {'role': 'assistant', 'content': '{\\n  \"score\": 9\\n}'}, 'logprobs': None, 'finish_reason': 'stop'}], 'usage': {'prompt_tokens': 195, 'completion_tokens': 9, 'total_tokens': 204}, 'system_fingerprint': None}\n",
      "{'id': 'chatcmpl-8vLUEwptmGHRHDG4eKkxtBsgAL6OP', 'object': 'chat.completion', 'created': 1708677982, 'model': 'gpt-4-0613', 'choices': [{'index': 0, 'message': {'role': 'assistant', 'content': '{\\n  \"score\": 10\\n}'}, 'logprobs': None, 'finish_reason': 'stop'}], 'usage': {'prompt_tokens': 174, 'completion_tokens': 9, 'total_tokens': 183}, 'system_fingerprint': None}\n",
      "{'id': 'chatcmpl-8vLUGGYcDCmaXZt8e6RwK6cCE6Mwa', 'object': 'chat.completion', 'created': 1708677984, 'model': 'gpt-4-0613', 'choices': [{'index': 0, 'message': {'role': 'assistant', 'content': '{\"score\": 0}'}, 'logprobs': None, 'finish_reason': 'stop'}], 'usage': {'prompt_tokens': 196, 'completion_tokens': 6, 'total_tokens': 202}, 'system_fingerprint': None}\n",
      "{'id': 'chatcmpl-8vLUJT9YD69gPv3BgPIFzVjUftO88', 'object': 'chat.completion', 'created': 1708677987, 'model': 'gpt-4-0613', 'choices': [{'index': 0, 'message': {'role': 'assistant', 'content': '{\\n  \"score\": 9.5\\n}'}, 'logprobs': None, 'finish_reason': 'stop'}], 'usage': {'prompt_tokens': 172, 'completion_tokens': 11, 'total_tokens': 183}, 'system_fingerprint': None}\n",
      "{'id': 'chatcmpl-8vLUKnHbVA3wfasSasAYMPhcev4Xb', 'object': 'chat.completion', 'created': 1708677988, 'model': 'gpt-4-0613', 'choices': [{'index': 0, 'message': {'role': 'assistant', 'content': '{\\n  \"score\": 9\\n}'}, 'logprobs': None, 'finish_reason': 'stop'}], 'usage': {'prompt_tokens': 179, 'completion_tokens': 9, 'total_tokens': 188}, 'system_fingerprint': None}\n",
      "{'id': 'chatcmpl-8vLULdPWp8v0gapuzhqV6JUdCtgH6', 'object': 'chat.completion', 'created': 1708677989, 'model': 'gpt-4-0613', 'choices': [{'index': 0, 'message': {'role': 'assistant', 'content': '{\\n  \"score\": 8\\n}'}, 'logprobs': None, 'finish_reason': 'stop'}], 'usage': {'prompt_tokens': 186, 'completion_tokens': 9, 'total_tokens': 195}, 'system_fingerprint': None}\n",
      "{'id': 'chatcmpl-8vLUMi3sOGNVMXH4hQjxEoYjcckMn', 'object': 'chat.completion', 'created': 1708677990, 'model': 'gpt-4-0613', 'choices': [{'index': 0, 'message': {'role': 'assistant', 'content': '{\\n  \"score\": 8\\n}'}, 'logprobs': None, 'finish_reason': 'stop'}], 'usage': {'prompt_tokens': 175, 'completion_tokens': 9, 'total_tokens': 184}, 'system_fingerprint': None}\n",
      "{'id': 'chatcmpl-8vLUPPJJNAiVq8pTXYU2EbliqiKZD', 'object': 'chat.completion', 'created': 1708677993, 'model': 'gpt-4-0613', 'choices': [{'index': 0, 'message': {'role': 'assistant', 'content': '{\\n  \"score\": 9\\n}'}, 'logprobs': None, 'finish_reason': 'stop'}], 'usage': {'prompt_tokens': 180, 'completion_tokens': 9, 'total_tokens': 189}, 'system_fingerprint': None}\n",
      "{'id': 'chatcmpl-8vLUQ1c7eqsX5A43SpgZL1S0X4AYt', 'object': 'chat.completion', 'created': 1708677994, 'model': 'gpt-4-0613', 'choices': [{'index': 0, 'message': {'role': 'assistant', 'content': '{\\n  \"score\": 10\\n}'}, 'logprobs': None, 'finish_reason': 'stop'}], 'usage': {'prompt_tokens': 204, 'completion_tokens': 9, 'total_tokens': 213}, 'system_fingerprint': None}\n",
      "{'id': 'chatcmpl-8vLUSUQrCKeh1yGAIdYCD4UvhZ1vo', 'object': 'chat.completion', 'created': 1708677996, 'model': 'gpt-4-0613', 'choices': [{'index': 0, 'message': {'role': 'assistant', 'content': '{\"score\": 4}'}, 'logprobs': None, 'finish_reason': 'stop'}], 'usage': {'prompt_tokens': 171, 'completion_tokens': 6, 'total_tokens': 177}, 'system_fingerprint': None}\n",
      "{'id': 'chatcmpl-8vLUTSsyjf2wbKh4RvLYCzIptIseK', 'object': 'chat.completion', 'created': 1708677997, 'model': 'gpt-4-0613', 'choices': [{'index': 0, 'message': {'role': 'assistant', 'content': '{\\n  \"score\": 4\\n}'}, 'logprobs': None, 'finish_reason': 'stop'}], 'usage': {'prompt_tokens': 164, 'completion_tokens': 9, 'total_tokens': 173}, 'system_fingerprint': None}\n",
      "{'id': 'chatcmpl-8vLUV3KekNyyUXVtmqM58j6FCfEgK', 'object': 'chat.completion', 'created': 1708677999, 'model': 'gpt-4-0613', 'choices': [{'index': 0, 'message': {'role': 'assistant', 'content': '{\\n  \"score\": 7\\n}'}, 'logprobs': None, 'finish_reason': 'stop'}], 'usage': {'prompt_tokens': 181, 'completion_tokens': 9, 'total_tokens': 190}, 'system_fingerprint': None}\n",
      "{'id': 'chatcmpl-8vLUWKxraW59b31Nx51PY5GkBs5Um', 'object': 'chat.completion', 'created': 1708678000, 'model': 'gpt-4-0613', 'choices': [{'index': 0, 'message': {'role': 'assistant', 'content': '{\\n  \"score\": 9\\n}'}, 'logprobs': None, 'finish_reason': 'stop'}], 'usage': {'prompt_tokens': 176, 'completion_tokens': 9, 'total_tokens': 185}, 'system_fingerprint': None}\n",
      "{'id': 'chatcmpl-8vLUYohbChOWhCOKHPA0wAxgB5kuL', 'object': 'chat.completion', 'created': 1708678002, 'model': 'gpt-4-0613', 'choices': [{'index': 0, 'message': {'role': 'assistant', 'content': '{\\n  \"score\": 9\\n}'}, 'logprobs': None, 'finish_reason': 'stop'}], 'usage': {'prompt_tokens': 176, 'completion_tokens': 9, 'total_tokens': 185}, 'system_fingerprint': None}\n",
      "{'id': 'chatcmpl-8vLUaRsm2hzzjQHqNThZ84D3UHKQ6', 'object': 'chat.completion', 'created': 1708678004, 'model': 'gpt-4-0613', 'choices': [{'index': 0, 'message': {'role': 'assistant', 'content': '{\\n  \"score\": 1\\n}'}, 'logprobs': None, 'finish_reason': 'stop'}], 'usage': {'prompt_tokens': 172, 'completion_tokens': 9, 'total_tokens': 181}, 'system_fingerprint': None}\n",
      "{'id': 'chatcmpl-8vLUbMAe4PTYow8yHbbTRIxXHZ8ZA', 'object': 'chat.completion', 'created': 1708678005, 'model': 'gpt-4-0613', 'choices': [{'index': 0, 'message': {'role': 'assistant', 'content': '{\\n  \"score\": 10\\n}'}, 'logprobs': None, 'finish_reason': 'stop'}], 'usage': {'prompt_tokens': 286, 'completion_tokens': 9, 'total_tokens': 295}, 'system_fingerprint': None}\n",
      "{'id': 'chatcmpl-8vLUdHZxIVccJcJdLhzsQZ80JR86c', 'object': 'chat.completion', 'created': 1708678007, 'model': 'gpt-4-0613', 'choices': [{'index': 0, 'message': {'role': 'assistant', 'content': '{\\n  \"score\": 9\\n}'}, 'logprobs': None, 'finish_reason': 'stop'}], 'usage': {'prompt_tokens': 184, 'completion_tokens': 9, 'total_tokens': 193}, 'system_fingerprint': None}\n",
      "{'id': 'chatcmpl-8vLUeupJn8kfJgAB0D8C9I3xt8DwO', 'object': 'chat.completion', 'created': 1708678008, 'model': 'gpt-4-0613', 'choices': [{'index': 0, 'message': {'role': 'assistant', 'content': '{\"score\": 10}'}, 'logprobs': None, 'finish_reason': 'stop'}], 'usage': {'prompt_tokens': 319, 'completion_tokens': 6, 'total_tokens': 325}, 'system_fingerprint': None}\n",
      "{'id': 'chatcmpl-8vLUfV0NaXZMr7UCFK1YAkSmkvXI8', 'object': 'chat.completion', 'created': 1708678009, 'model': 'gpt-4-0613', 'choices': [{'index': 0, 'message': {'role': 'assistant', 'content': '{\\n  \"score\": 9\\n}'}, 'logprobs': None, 'finish_reason': 'stop'}], 'usage': {'prompt_tokens': 187, 'completion_tokens': 9, 'total_tokens': 196}, 'system_fingerprint': None}\n",
      "{'id': 'chatcmpl-8vLUgAqVJc6v8h5LAXfovUxejGY0a', 'object': 'chat.completion', 'created': 1708678010, 'model': 'gpt-4-0613', 'choices': [{'index': 0, 'message': {'role': 'assistant', 'content': '{\\n  \"score\": 10\\n}'}, 'logprobs': None, 'finish_reason': 'stop'}], 'usage': {'prompt_tokens': 202, 'completion_tokens': 9, 'total_tokens': 211}, 'system_fingerprint': None}\n",
      "{'id': 'chatcmpl-8vLUimoXjkuomQffkUBQdVNjt6qv8', 'object': 'chat.completion', 'created': 1708678012, 'model': 'gpt-4-0613', 'choices': [{'index': 0, 'message': {'role': 'assistant', 'content': '{\\n  \"score\": 8\\n}'}, 'logprobs': None, 'finish_reason': 'stop'}], 'usage': {'prompt_tokens': 186, 'completion_tokens': 9, 'total_tokens': 195}, 'system_fingerprint': None}\n",
      "{'id': 'chatcmpl-8vLUjODY7lAk0xeg8ummRUB4Ng86p', 'object': 'chat.completion', 'created': 1708678013, 'model': 'gpt-4-0613', 'choices': [{'index': 0, 'message': {'role': 'assistant', 'content': '{\\n  \"score\": 9\\n}'}, 'logprobs': None, 'finish_reason': 'stop'}], 'usage': {'prompt_tokens': 225, 'completion_tokens': 9, 'total_tokens': 234}, 'system_fingerprint': None}\n",
      "{'id': 'chatcmpl-8vLUkdK0HOIaNyGduyq4nek6lKo8X', 'object': 'chat.completion', 'created': 1708678014, 'model': 'gpt-4-0613', 'choices': [{'index': 0, 'message': {'role': 'assistant', 'content': '{\\n  \"score\": 10\\n}'}, 'logprobs': None, 'finish_reason': 'stop'}], 'usage': {'prompt_tokens': 215, 'completion_tokens': 9, 'total_tokens': 224}, 'system_fingerprint': None}\n",
      "{'id': 'chatcmpl-8vLUmrUhJEIu4A43Xrk0DC1eVarIq', 'object': 'chat.completion', 'created': 1708678016, 'model': 'gpt-4-0613', 'choices': [{'index': 0, 'message': {'role': 'assistant', 'content': '{\\n  \"score\": 9\\n}'}, 'logprobs': None, 'finish_reason': 'stop'}], 'usage': {'prompt_tokens': 215, 'completion_tokens': 9, 'total_tokens': 224}, 'system_fingerprint': None}\n",
      "{'id': 'chatcmpl-8vLUn0NFo9O6I27IcYdvhwCFZu1o6', 'object': 'chat.completion', 'created': 1708678017, 'model': 'gpt-4-0613', 'choices': [{'index': 0, 'message': {'role': 'assistant', 'content': '{\\n  \"score\": 9\\n}'}, 'logprobs': None, 'finish_reason': 'stop'}], 'usage': {'prompt_tokens': 224, 'completion_tokens': 9, 'total_tokens': 233}, 'system_fingerprint': None}\n",
      "{'id': 'chatcmpl-8vLUpS5B8bi6qmjxEumq4tAYG23uH', 'object': 'chat.completion', 'created': 1708678019, 'model': 'gpt-4-0613', 'choices': [{'index': 0, 'message': {'role': 'assistant', 'content': '{\\n  \"score\": 7\\n}'}, 'logprobs': None, 'finish_reason': 'stop'}], 'usage': {'prompt_tokens': 191, 'completion_tokens': 9, 'total_tokens': 200}, 'system_fingerprint': None}\n",
      "{'id': 'chatcmpl-8vLUqiEN8aviRTjZE6qLeSd57UOlj', 'object': 'chat.completion', 'created': 1708678020, 'model': 'gpt-4-0613', 'choices': [{'index': 0, 'message': {'role': 'assistant', 'content': '{\"score\": 10}'}, 'logprobs': None, 'finish_reason': 'stop'}], 'usage': {'prompt_tokens': 229, 'completion_tokens': 6, 'total_tokens': 235}, 'system_fingerprint': None}\n",
      "{'id': 'chatcmpl-8vLUrGXpfaiYJYcldxP56FmXaU2dx', 'object': 'chat.completion', 'created': 1708678021, 'model': 'gpt-4-0613', 'choices': [{'index': 0, 'message': {'role': 'assistant', 'content': '{\\n  \"score\": 8\\n}'}, 'logprobs': None, 'finish_reason': 'stop'}], 'usage': {'prompt_tokens': 236, 'completion_tokens': 9, 'total_tokens': 245}, 'system_fingerprint': None}\n",
      "{'id': 'chatcmpl-8vLUsKefuiQ7s2UAAXotLcPN4BfaP', 'object': 'chat.completion', 'created': 1708678022, 'model': 'gpt-4-0613', 'choices': [{'index': 0, 'message': {'role': 'assistant', 'content': '{\"score\": 9}'}, 'logprobs': None, 'finish_reason': 'stop'}], 'usage': {'prompt_tokens': 216, 'completion_tokens': 6, 'total_tokens': 222}, 'system_fingerprint': None}\n"
     ]
    }
   ],
   "source": [
    "ranked_results = rank_results(result, user_prompt)"
   ]
  },
  {
   "cell_type": "code",
   "execution_count": 64,
   "metadata": {},
   "outputs": [
    {
     "data": {
      "text/plain": [
       "[(\"I'm seeking $50,000 in exchange for 50% of my. Company. Wow. Sharks.\", 10),\n",
       " ('Sarah and Syed came in seeking $270,000 for 2% of their eco friendly cleaning product company, Blue Land. Lori and Daniel have offered 270,000 for 8%, and Kevin has offered 270,000 for 6%.',\n",
       "  10),\n",
       " (\"I'm going to make you an offer. But before I do, I want you to take a big breath because you're going to need it. Let's do it together. You're not going to like the number, and it's not going to be equity, that's for sure. I feel better about this offer than I even felt a few seconds ago. So here's what it is. You have good cash flow in this company, so you can support some debt. I'm going to give you the million bucks in a loan. 36 months, three years. Okay? 9% interest. And I want seven and a half percent equity.\",\n",
       "  10),\n",
       " (\"You're allowed to counter? Yeah, or he'll pull it. Okay. What do you think? I think it's a very valid point. Right. So we'll do a million for 6% of the. Not 6% interest rate. 6%. The deal now is you're countering me. Instead of giving me 9% interest, you want to give me six. Yes. But I keep my seven and a half percent. Right. 5% for 5%. Five. All right. Because we're all reasonable. We meet in the middle, okay? That's how we get this deal done. So I'm at nine, you're at six. Seven and a half percent interest, no problem above 6% equity. Six and a quarter. Pretty sharp little numberonis.\",\n",
       "  10),\n",
       " (\"So guess what, young lady. I'm going to make you an offer because I have to be along with this journey. I'm giving you 50,000 for 50%. Wow. Flora me. You have a deal. Congratulations.\",\n",
       "  10),\n",
       " (\"This year I'm projected to do $5.6 million. What are you going to make on the 5.6 million? I'm going to make $1.3 million with the tariffs accounted for. So you're making 20 plus percent margins. 25%. Why do you need a shark?\",\n",
       "  10),\n",
       " (\"Barbara and I will put our offer out first. Okay. All right. Because I think we bring a lot to the table. Okay. I think Lori first. Because then they discuss longer. So to be fair. Okay, here's our offer. Mark and I are going to give you the 750,000. For 20% because you got us both. Okay.\",\n",
       "  10),\n",
       " (\"And we're here seeking $270,000 for 2% of our company, Blue Land.\", 9.5),\n",
       " (\"Here's where I'm at. $500,000 for 20% of a startup that has no revenue is way too high. You asked for too much. You made a strategic error. I'm out.\",\n",
       "  9),\n",
       " ('I would propose, without consulting with Lori, that we invest a million dollars. Whoa. For 25% of the company.',\n",
       "  9),\n",
       " ('My offer is 270,000 for 6%, and the other is 270 for 8%. What do you want to do?',\n",
       "  9)]"
      ]
     },
     "execution_count": 64,
     "metadata": {},
     "output_type": "execute_result"
    }
   ],
   "source": [
    "ranked_results"
   ]
  },
  {
   "cell_type": "code",
   "execution_count": 65,
   "metadata": {},
   "outputs": [],
   "source": [
    "# search matching video segments and watch the stream\n",
    "from videodb import SearchType\n",
    "from videodb.timeline import Timeline, VideoAsset, AudioAsset\n",
    "\n",
    "timeline = Timeline(conn)\n",
    "for sentences, score in ranked_results:\n",
    "    search_res = video.search(sentences, search_type=SearchType.keyword)\n",
    "    matched_segments = search_res.get_shots()\n",
    "    \n",
    "    #no exact match found.\n",
    "    if len(matched_segments) == 0:\n",
    "        continue\n",
    "\n",
    "    # get the first video matched segment\n",
    "    video_shot = matched_segments[0]\n",
    "\n",
    "    #Create a new Video Asset and add it to a timeline.\n",
    "    timeline.add_inline(VideoAsset(asset_id=video.id, start=video_shot.start, end=video_shot.end))"
   ]
  },
  {
   "cell_type": "code",
   "execution_count": 66,
   "metadata": {},
   "outputs": [
    {
     "data": {
      "text/plain": [
       "'https://console.videodb.io/player?url=https://stream.videodb.io/v3/published/manifests/8283a3a0-3df5-4f3b-b67b-805792139dd2.m3u8'"
      ]
     },
     "execution_count": 66,
     "metadata": {},
     "output_type": "execute_result"
    }
   ],
   "source": [
    "stream = timeline.generate_stream()\n",
    "play_stream(stream)"
   ]
  },
  {
   "cell_type": "markdown",
   "metadata": {},
   "source": [
    "### Add some sound effects to it 🎶\n",
    "\n",
    "Not just this we can jazz it up with audio overlays and create another stream with audio overlays."
   ]
  },
  {
   "cell_type": "code",
   "execution_count": 67,
   "metadata": {},
   "outputs": [],
   "source": [
    "# Add music overlay, this can be laughter soundtrack\n",
    "audio = conn.upload(url=\"https://www.youtube.com/watch?v=q3VVxbJa61Q\", media_type=MediaType.audio)"
   ]
  },
  {
   "cell_type": "code",
   "execution_count": 22,
   "metadata": {},
   "outputs": [],
   "source": [
    "# 5 sec background music\n",
    "background = AudioAsset(asset_id=audio.id, start=3, end=4, disable_other_tracks=True)"
   ]
  },
  {
   "cell_type": "code",
   "execution_count": null,
   "metadata": {},
   "outputs": [],
   "source": [
    "timeline = Timeline(conn)\n",
    "dur_so_far = 0\n",
    "for clip_sentences in ranked_results:\n",
    "    try:\n",
    "        search_res = video.search(clip_sentences, search_type=SearchType.keyword)\n",
    "        matched_segments = search_res.get_shots()\n",
    "        \n",
    "        #no exact match found.\n",
    "        if len(matched_segments) == 0:\n",
    "            continue\n",
    "    \n",
    "        #video segment\n",
    "        video_shot = matched_segments[0]\n",
    "    \n",
    "        #Create a new Video Asset and add it to a timeline.\n",
    "        timeline.add_inline(VideoAsset(asset_id=video.id, start=video_shot.start, end=video_shot.end))\n",
    "    \n",
    "        dur_so_far += (video_shot.end - video_shot.start)\n",
    "        timeline.add_overlay(dur_so_far-2,background)\n",
    "     except Exception as e:\n",
    "        print(f\"Error: skipping the segment {str(e)}\")"
   ]
  },
  {
   "cell_type": "code",
   "execution_count": 24,
   "metadata": {
    "scrolled": true
   },
   "outputs": [
    {
     "data": {
      "text/plain": [
       "'https://console.videodb.io/player?url=https://stream.videodb.io/v3/published/manifests/9cd651a1-7d52-42a0-b27b-deb385165c47.m3u8'"
      ]
     },
     "execution_count": 24,
     "metadata": {},
     "output_type": "execute_result"
    }
   ],
   "source": [
    "#add music overlay in the last 2 sec of each supercut.\n",
    "stream = timeline.generate_stream()\n",
    "play_stream(stream)"
   ]
  }
 ],
 "metadata": {
  "kernelspec": {
   "display_name": "Python 3 (ipykernel)",
   "language": "python",
   "name": "python3"
  },
  "language_info": {
   "codemirror_mode": {
    "name": "ipython",
    "version": 3
   },
   "file_extension": ".py",
   "mimetype": "text/x-python",
   "name": "python",
   "nbconvert_exporter": "python",
   "pygments_lexer": "ipython3",
   "version": "3.12.0"
  }
 },
 "nbformat": 4,
 "nbformat_minor": 4
}
